{
 "cells": [
  {
   "cell_type": "markdown",
   "id": "22a378eb",
   "metadata": {
    "id": "s_x-2GIGYJdO",
    "papermill": {
     "duration": 0.016044,
     "end_time": "2023-02-07T11:27:12.089656",
     "exception": false,
     "start_time": "2023-02-07T11:27:12.073612",
     "status": "completed"
    },
    "tags": []
   },
   "source": [
    "# 1. **Importing libraries and dataset**\n",
    "\n",
    "I am using pandas for working with data sets, sklearn to create models and matplotlib to plot graph."
   ]
  },
  {
   "cell_type": "code",
   "execution_count": 1,
   "id": "f761f3b5",
   "metadata": {
    "execution": {
     "iopub.execute_input": "2023-02-07T11:27:12.120307Z",
     "iopub.status.busy": "2023-02-07T11:27:12.119822Z",
     "iopub.status.idle": "2023-02-07T11:27:13.646602Z",
     "shell.execute_reply": "2023-02-07T11:27:13.645369Z"
    },
    "id": "mjexJQpKYmwW",
    "papermill": {
     "duration": 1.54551,
     "end_time": "2023-02-07T11:27:13.649625",
     "exception": false,
     "start_time": "2023-02-07T11:27:12.104115",
     "status": "completed"
    },
    "tags": []
   },
   "outputs": [],
   "source": [
    "import pandas as pd\n",
    "import matplotlib.pyplot as plt\n",
    "\n",
    "from sklearn.preprocessing import OneHotEncoder\n",
    "from sklearn.preprocessing import MinMaxScaler\n",
    "from sklearn.compose import make_column_transformer\n",
    "\n",
    "from sklearn.model_selection import train_test_split\n",
    "from sklearn.linear_model import LogisticRegression\n",
    "from sklearn.svm import SVC\n",
    "from sklearn.tree import DecisionTreeClassifier\n",
    "from sklearn.ensemble import RandomForestClassifier\n",
    "from sklearn.metrics import accuracy_score, confusion_matrix\n",
    "\n",
    "%matplotlib inline "
   ]
  },
  {
   "cell_type": "markdown",
   "id": "14282dd0",
   "metadata": {
    "id": "PGuU473Kyzf_",
    "papermill": {
     "duration": 0.013847,
     "end_time": "2023-02-07T11:27:13.680097",
     "exception": false,
     "start_time": "2023-02-07T11:27:13.666250",
     "status": "completed"
    },
    "tags": []
   },
   "source": [
    "### **Import Dataset**"
   ]
  },
  {
   "cell_type": "code",
   "execution_count": 2,
   "id": "3ac96fcb",
   "metadata": {
    "execution": {
     "iopub.execute_input": "2023-02-07T11:27:13.711307Z",
     "iopub.status.busy": "2023-02-07T11:27:13.710931Z",
     "iopub.status.idle": "2023-02-07T11:27:13.762406Z",
     "shell.execute_reply": "2023-02-07T11:27:13.761576Z"
    },
    "id": "3G39YTxUYpOg",
    "outputId": "609934a7-36d2-42ee-c0f7-133a5de0146d",
    "papermill": {
     "duration": 0.070967,
     "end_time": "2023-02-07T11:27:13.765479",
     "exception": false,
     "start_time": "2023-02-07T11:27:13.694512",
     "status": "completed"
    },
    "tags": []
   },
   "outputs": [
    {
     "data": {
      "text/html": [
       "<div>\n",
       "<style scoped>\n",
       "    .dataframe tbody tr th:only-of-type {\n",
       "        vertical-align: middle;\n",
       "    }\n",
       "\n",
       "    .dataframe tbody tr th {\n",
       "        vertical-align: top;\n",
       "    }\n",
       "\n",
       "    .dataframe thead th {\n",
       "        text-align: right;\n",
       "    }\n",
       "</style>\n",
       "<table border=\"1\" class=\"dataframe\">\n",
       "  <thead>\n",
       "    <tr style=\"text-align: right;\">\n",
       "      <th></th>\n",
       "      <th>PassengerId</th>\n",
       "      <th>Survived</th>\n",
       "      <th>Pclass</th>\n",
       "      <th>Name</th>\n",
       "      <th>Sex</th>\n",
       "      <th>Age</th>\n",
       "      <th>SibSp</th>\n",
       "      <th>Parch</th>\n",
       "      <th>Ticket</th>\n",
       "      <th>Fare</th>\n",
       "      <th>Cabin</th>\n",
       "      <th>Embarked</th>\n",
       "    </tr>\n",
       "  </thead>\n",
       "  <tbody>\n",
       "    <tr>\n",
       "      <th>0</th>\n",
       "      <td>1</td>\n",
       "      <td>0</td>\n",
       "      <td>3</td>\n",
       "      <td>Braund, Mr. Owen Harris</td>\n",
       "      <td>male</td>\n",
       "      <td>22.0</td>\n",
       "      <td>1</td>\n",
       "      <td>0</td>\n",
       "      <td>A/5 21171</td>\n",
       "      <td>7.2500</td>\n",
       "      <td>NaN</td>\n",
       "      <td>S</td>\n",
       "    </tr>\n",
       "    <tr>\n",
       "      <th>1</th>\n",
       "      <td>2</td>\n",
       "      <td>1</td>\n",
       "      <td>1</td>\n",
       "      <td>Cumings, Mrs. John Bradley (Florence Briggs Th...</td>\n",
       "      <td>female</td>\n",
       "      <td>38.0</td>\n",
       "      <td>1</td>\n",
       "      <td>0</td>\n",
       "      <td>PC 17599</td>\n",
       "      <td>71.2833</td>\n",
       "      <td>C85</td>\n",
       "      <td>C</td>\n",
       "    </tr>\n",
       "    <tr>\n",
       "      <th>2</th>\n",
       "      <td>3</td>\n",
       "      <td>1</td>\n",
       "      <td>3</td>\n",
       "      <td>Heikkinen, Miss. Laina</td>\n",
       "      <td>female</td>\n",
       "      <td>26.0</td>\n",
       "      <td>0</td>\n",
       "      <td>0</td>\n",
       "      <td>STON/O2. 3101282</td>\n",
       "      <td>7.9250</td>\n",
       "      <td>NaN</td>\n",
       "      <td>S</td>\n",
       "    </tr>\n",
       "    <tr>\n",
       "      <th>3</th>\n",
       "      <td>4</td>\n",
       "      <td>1</td>\n",
       "      <td>1</td>\n",
       "      <td>Futrelle, Mrs. Jacques Heath (Lily May Peel)</td>\n",
       "      <td>female</td>\n",
       "      <td>35.0</td>\n",
       "      <td>1</td>\n",
       "      <td>0</td>\n",
       "      <td>113803</td>\n",
       "      <td>53.1000</td>\n",
       "      <td>C123</td>\n",
       "      <td>S</td>\n",
       "    </tr>\n",
       "    <tr>\n",
       "      <th>4</th>\n",
       "      <td>5</td>\n",
       "      <td>0</td>\n",
       "      <td>3</td>\n",
       "      <td>Allen, Mr. William Henry</td>\n",
       "      <td>male</td>\n",
       "      <td>35.0</td>\n",
       "      <td>0</td>\n",
       "      <td>0</td>\n",
       "      <td>373450</td>\n",
       "      <td>8.0500</td>\n",
       "      <td>NaN</td>\n",
       "      <td>S</td>\n",
       "    </tr>\n",
       "  </tbody>\n",
       "</table>\n",
       "</div>"
      ],
      "text/plain": [
       "   PassengerId  Survived  Pclass  \\\n",
       "0            1         0       3   \n",
       "1            2         1       1   \n",
       "2            3         1       3   \n",
       "3            4         1       1   \n",
       "4            5         0       3   \n",
       "\n",
       "                                                Name     Sex   Age  SibSp  \\\n",
       "0                            Braund, Mr. Owen Harris    male  22.0      1   \n",
       "1  Cumings, Mrs. John Bradley (Florence Briggs Th...  female  38.0      1   \n",
       "2                             Heikkinen, Miss. Laina  female  26.0      0   \n",
       "3       Futrelle, Mrs. Jacques Heath (Lily May Peel)  female  35.0      1   \n",
       "4                           Allen, Mr. William Henry    male  35.0      0   \n",
       "\n",
       "   Parch            Ticket     Fare Cabin Embarked  \n",
       "0      0         A/5 21171   7.2500   NaN        S  \n",
       "1      0          PC 17599  71.2833   C85        C  \n",
       "2      0  STON/O2. 3101282   7.9250   NaN        S  \n",
       "3      0            113803  53.1000  C123        S  \n",
       "4      0            373450   8.0500   NaN        S  "
      ]
     },
     "execution_count": 2,
     "metadata": {},
     "output_type": "execute_result"
    }
   ],
   "source": [
    "train = pd.read_csv('/kaggle/input/titanic/train.csv')\n",
    "test = pd.read_csv('/kaggle/input/titanic/test.csv')\n",
    "train.head()"
   ]
  },
  {
   "cell_type": "code",
   "execution_count": 3,
   "id": "4078c3e9",
   "metadata": {
    "execution": {
     "iopub.execute_input": "2023-02-07T11:27:13.797163Z",
     "iopub.status.busy": "2023-02-07T11:27:13.796453Z",
     "iopub.status.idle": "2023-02-07T11:27:13.813294Z",
     "shell.execute_reply": "2023-02-07T11:27:13.811792Z"
    },
    "papermill": {
     "duration": 0.035555,
     "end_time": "2023-02-07T11:27:13.815940",
     "exception": false,
     "start_time": "2023-02-07T11:27:13.780385",
     "status": "completed"
    },
    "tags": []
   },
   "outputs": [
    {
     "data": {
      "text/html": [
       "<div>\n",
       "<style scoped>\n",
       "    .dataframe tbody tr th:only-of-type {\n",
       "        vertical-align: middle;\n",
       "    }\n",
       "\n",
       "    .dataframe tbody tr th {\n",
       "        vertical-align: top;\n",
       "    }\n",
       "\n",
       "    .dataframe thead th {\n",
       "        text-align: right;\n",
       "    }\n",
       "</style>\n",
       "<table border=\"1\" class=\"dataframe\">\n",
       "  <thead>\n",
       "    <tr style=\"text-align: right;\">\n",
       "      <th></th>\n",
       "      <th>PassengerId</th>\n",
       "      <th>Pclass</th>\n",
       "      <th>Name</th>\n",
       "      <th>Sex</th>\n",
       "      <th>Age</th>\n",
       "      <th>SibSp</th>\n",
       "      <th>Parch</th>\n",
       "      <th>Ticket</th>\n",
       "      <th>Fare</th>\n",
       "      <th>Cabin</th>\n",
       "      <th>Embarked</th>\n",
       "    </tr>\n",
       "  </thead>\n",
       "  <tbody>\n",
       "    <tr>\n",
       "      <th>0</th>\n",
       "      <td>892</td>\n",
       "      <td>3</td>\n",
       "      <td>Kelly, Mr. James</td>\n",
       "      <td>male</td>\n",
       "      <td>34.5</td>\n",
       "      <td>0</td>\n",
       "      <td>0</td>\n",
       "      <td>330911</td>\n",
       "      <td>7.8292</td>\n",
       "      <td>NaN</td>\n",
       "      <td>Q</td>\n",
       "    </tr>\n",
       "    <tr>\n",
       "      <th>1</th>\n",
       "      <td>893</td>\n",
       "      <td>3</td>\n",
       "      <td>Wilkes, Mrs. James (Ellen Needs)</td>\n",
       "      <td>female</td>\n",
       "      <td>47.0</td>\n",
       "      <td>1</td>\n",
       "      <td>0</td>\n",
       "      <td>363272</td>\n",
       "      <td>7.0000</td>\n",
       "      <td>NaN</td>\n",
       "      <td>S</td>\n",
       "    </tr>\n",
       "    <tr>\n",
       "      <th>2</th>\n",
       "      <td>894</td>\n",
       "      <td>2</td>\n",
       "      <td>Myles, Mr. Thomas Francis</td>\n",
       "      <td>male</td>\n",
       "      <td>62.0</td>\n",
       "      <td>0</td>\n",
       "      <td>0</td>\n",
       "      <td>240276</td>\n",
       "      <td>9.6875</td>\n",
       "      <td>NaN</td>\n",
       "      <td>Q</td>\n",
       "    </tr>\n",
       "    <tr>\n",
       "      <th>3</th>\n",
       "      <td>895</td>\n",
       "      <td>3</td>\n",
       "      <td>Wirz, Mr. Albert</td>\n",
       "      <td>male</td>\n",
       "      <td>27.0</td>\n",
       "      <td>0</td>\n",
       "      <td>0</td>\n",
       "      <td>315154</td>\n",
       "      <td>8.6625</td>\n",
       "      <td>NaN</td>\n",
       "      <td>S</td>\n",
       "    </tr>\n",
       "    <tr>\n",
       "      <th>4</th>\n",
       "      <td>896</td>\n",
       "      <td>3</td>\n",
       "      <td>Hirvonen, Mrs. Alexander (Helga E Lindqvist)</td>\n",
       "      <td>female</td>\n",
       "      <td>22.0</td>\n",
       "      <td>1</td>\n",
       "      <td>1</td>\n",
       "      <td>3101298</td>\n",
       "      <td>12.2875</td>\n",
       "      <td>NaN</td>\n",
       "      <td>S</td>\n",
       "    </tr>\n",
       "  </tbody>\n",
       "</table>\n",
       "</div>"
      ],
      "text/plain": [
       "   PassengerId  Pclass                                          Name     Sex  \\\n",
       "0          892       3                              Kelly, Mr. James    male   \n",
       "1          893       3              Wilkes, Mrs. James (Ellen Needs)  female   \n",
       "2          894       2                     Myles, Mr. Thomas Francis    male   \n",
       "3          895       3                              Wirz, Mr. Albert    male   \n",
       "4          896       3  Hirvonen, Mrs. Alexander (Helga E Lindqvist)  female   \n",
       "\n",
       "    Age  SibSp  Parch   Ticket     Fare Cabin Embarked  \n",
       "0  34.5      0      0   330911   7.8292   NaN        Q  \n",
       "1  47.0      1      0   363272   7.0000   NaN        S  \n",
       "2  62.0      0      0   240276   9.6875   NaN        Q  \n",
       "3  27.0      0      0   315154   8.6625   NaN        S  \n",
       "4  22.0      1      1  3101298  12.2875   NaN        S  "
      ]
     },
     "execution_count": 3,
     "metadata": {},
     "output_type": "execute_result"
    }
   ],
   "source": [
    "test.head()"
   ]
  },
  {
   "cell_type": "markdown",
   "id": "d144da37",
   "metadata": {
    "id": "PCK4wJ0n4nUX",
    "papermill": {
     "duration": 0.015507,
     "end_time": "2023-02-07T11:27:13.846404",
     "exception": false,
     "start_time": "2023-02-07T11:27:13.830897",
     "status": "completed"
    },
    "tags": []
   },
   "source": [
    "# 2. **Data Analysis**"
   ]
  },
  {
   "cell_type": "markdown",
   "id": "8c0de9ec",
   "metadata": {
    "id": "HLJDdD1a1gR_",
    "papermill": {
     "duration": 0.015237,
     "end_time": "2023-02-07T11:27:13.876938",
     "exception": false,
     "start_time": "2023-02-07T11:27:13.861701",
     "status": "completed"
    },
    "tags": []
   },
   "source": [
    "### Let's see the count of total survived and dead"
   ]
  },
  {
   "cell_type": "code",
   "execution_count": 4,
   "id": "10dd86d5",
   "metadata": {
    "execution": {
     "iopub.execute_input": "2023-02-07T11:27:13.908532Z",
     "iopub.status.busy": "2023-02-07T11:27:13.908085Z",
     "iopub.status.idle": "2023-02-07T11:27:13.924064Z",
     "shell.execute_reply": "2023-02-07T11:27:13.922786Z"
    },
    "id": "eUtohNB74sQt",
    "outputId": "2c3e0880-cde0-4a5c-b343-f64e6b134c2a",
    "papermill": {
     "duration": 0.035132,
     "end_time": "2023-02-07T11:27:13.926836",
     "exception": false,
     "start_time": "2023-02-07T11:27:13.891704",
     "status": "completed"
    },
    "tags": []
   },
   "outputs": [
    {
     "data": {
      "text/plain": [
       "0    549\n",
       "1    342\n",
       "Name: Survived, dtype: int64"
      ]
     },
     "execution_count": 4,
     "metadata": {},
     "output_type": "execute_result"
    }
   ],
   "source": [
    "train['Survived'].value_counts()"
   ]
  },
  {
   "cell_type": "code",
   "execution_count": 5,
   "id": "69b5b3c7",
   "metadata": {
    "execution": {
     "iopub.execute_input": "2023-02-07T11:27:13.960120Z",
     "iopub.status.busy": "2023-02-07T11:27:13.959715Z",
     "iopub.status.idle": "2023-02-07T11:27:14.212717Z",
     "shell.execute_reply": "2023-02-07T11:27:14.211295Z"
    },
    "id": "C8ZS_JAH4pUn",
    "outputId": "01fd7943-daeb-4685-bc9d-c3a70f244c46",
    "papermill": {
     "duration": 0.272417,
     "end_time": "2023-02-07T11:27:14.215353",
     "exception": false,
     "start_time": "2023-02-07T11:27:13.942936",
     "status": "completed"
    },
    "tags": []
   },
   "outputs": [
    {
     "data": {
      "text/plain": [
       "Text(0, 0.5, 'Count')"
      ]
     },
     "execution_count": 5,
     "metadata": {},
     "output_type": "execute_result"
    },
    {
     "data": {
      "image/png": "[encoded data removed]",
      "text/plain": [
       "<Figure size 432x288 with 1 Axes>"
      ]
     },
     "metadata": {
      "needs_background": "light"
     },
     "output_type": "display_data"
    }
   ],
   "source": [
    "train['Survived'].value_counts().plot(kind='bar', title='Survived vs Dead')\n",
    "plt.ylabel('Count')"
   ]
  },
  {
   "cell_type": "markdown",
   "id": "73950e43",
   "metadata": {
    "id": "yN_fOaZC41j_",
    "papermill": {
     "duration": 0.015121,
     "end_time": "2023-02-07T11:27:14.246287",
     "exception": false,
     "start_time": "2023-02-07T11:27:14.231166",
     "status": "completed"
    },
    "tags": []
   },
   "source": [
    "### This displays the gender count and survival rate based on gender. We can deduce that a higher number of women survived compared to men."
   ]
  },
  {
   "cell_type": "code",
   "execution_count": 6,
   "id": "e0ba0ed0",
   "metadata": {
    "execution": {
     "iopub.execute_input": "2023-02-07T11:27:14.279207Z",
     "iopub.status.busy": "2023-02-07T11:27:14.278803Z",
     "iopub.status.idle": "2023-02-07T11:27:14.296657Z",
     "shell.execute_reply": "2023-02-07T11:27:14.295318Z"
    },
    "id": "2uEEbgwo5LmH",
    "outputId": "9a03d1ec-3ee3-43aa-82a0-9fe6aff57c79",
    "papermill": {
     "duration": 0.03737,
     "end_time": "2023-02-07T11:27:14.299130",
     "exception": false,
     "start_time": "2023-02-07T11:27:14.261760",
     "status": "completed"
    },
    "tags": []
   },
   "outputs": [
    {
     "data": {
      "text/html": [
       "<div>\n",
       "<style scoped>\n",
       "    .dataframe tbody tr th:only-of-type {\n",
       "        vertical-align: middle;\n",
       "    }\n",
       "\n",
       "    .dataframe tbody tr th {\n",
       "        vertical-align: top;\n",
       "    }\n",
       "\n",
       "    .dataframe thead th {\n",
       "        text-align: right;\n",
       "    }\n",
       "</style>\n",
       "<table border=\"1\" class=\"dataframe\">\n",
       "  <thead>\n",
       "    <tr style=\"text-align: right;\">\n",
       "      <th>Survived</th>\n",
       "      <th>0</th>\n",
       "      <th>1</th>\n",
       "    </tr>\n",
       "    <tr>\n",
       "      <th>Sex</th>\n",
       "      <th></th>\n",
       "      <th></th>\n",
       "    </tr>\n",
       "  </thead>\n",
       "  <tbody>\n",
       "    <tr>\n",
       "      <th>female</th>\n",
       "      <td>81</td>\n",
       "      <td>233</td>\n",
       "    </tr>\n",
       "    <tr>\n",
       "      <th>male</th>\n",
       "      <td>468</td>\n",
       "      <td>109</td>\n",
       "    </tr>\n",
       "  </tbody>\n",
       "</table>\n",
       "</div>"
      ],
      "text/plain": [
       "Survived    0    1\n",
       "Sex               \n",
       "female     81  233\n",
       "male      468  109"
      ]
     },
     "execution_count": 6,
     "metadata": {},
     "output_type": "execute_result"
    }
   ],
   "source": [
    "survival_by_sex = train.groupby('Sex')['Survived'].value_counts().unstack()\n",
    "survival_by_sex"
   ]
  },
  {
   "cell_type": "code",
   "execution_count": 7,
   "id": "3c3761e8",
   "metadata": {
    "execution": {
     "iopub.execute_input": "2023-02-07T11:27:14.332272Z",
     "iopub.status.busy": "2023-02-07T11:27:14.331839Z",
     "iopub.status.idle": "2023-02-07T11:27:14.557752Z",
     "shell.execute_reply": "2023-02-07T11:27:14.556217Z"
    },
    "id": "Tc1Vaj-_5XKf",
    "outputId": "812f7b92-656b-480f-c99d-3e51102d1448",
    "papermill": {
     "duration": 0.246242,
     "end_time": "2023-02-07T11:27:14.560885",
     "exception": false,
     "start_time": "2023-02-07T11:27:14.314643",
     "status": "completed"
    },
    "tags": []
   },
   "outputs": [
    {
     "data": {
      "image/png": "[encoded data removed]",
      "text/plain": [
       "<Figure size 720x360 with 1 Axes>"
      ]
     },
     "metadata": {
      "needs_background": "light"
     },
     "output_type": "display_data"
    }
   ],
   "source": [
    "plt.rc('figure', figsize=(10, 5))\n",
    "survival_by_sex.plot(kind='bar', stacked=True)\n",
    "plt.legend(('Died', 'Survived'), loc='best')\n",
    "plt.title('Survivors by Gender')\n",
    "plt.xlabel('Sex')\n",
    "plt.ylabel('Count')\n",
    "plt.show()"
   ]
  },
  {
   "cell_type": "markdown",
   "id": "3f89148a",
   "metadata": {
    "id": "SCqXbp0E6m33",
    "papermill": {
     "duration": 0.015599,
     "end_time": "2023-02-07T11:27:14.592589",
     "exception": false,
     "start_time": "2023-02-07T11:27:14.576990",
     "status": "completed"
    },
    "tags": []
   },
   "source": [
    "### This displays the class count and survival rate based on class."
   ]
  },
  {
   "cell_type": "code",
   "execution_count": 8,
   "id": "941197e0",
   "metadata": {
    "execution": {
     "iopub.execute_input": "2023-02-07T11:27:14.625964Z",
     "iopub.status.busy": "2023-02-07T11:27:14.625588Z",
     "iopub.status.idle": "2023-02-07T11:27:14.638979Z",
     "shell.execute_reply": "2023-02-07T11:27:14.637722Z"
    },
    "id": "0bjoFnTH6xu3",
    "outputId": "353a3c8e-d7cd-4896-897b-537871c7c957",
    "papermill": {
     "duration": 0.033588,
     "end_time": "2023-02-07T11:27:14.641968",
     "exception": false,
     "start_time": "2023-02-07T11:27:14.608380",
     "status": "completed"
    },
    "tags": []
   },
   "outputs": [
    {
     "data": {
      "text/html": [
       "<div>\n",
       "<style scoped>\n",
       "    .dataframe tbody tr th:only-of-type {\n",
       "        vertical-align: middle;\n",
       "    }\n",
       "\n",
       "    .dataframe tbody tr th {\n",
       "        vertical-align: top;\n",
       "    }\n",
       "\n",
       "    .dataframe thead th {\n",
       "        text-align: right;\n",
       "    }\n",
       "</style>\n",
       "<table border=\"1\" class=\"dataframe\">\n",
       "  <thead>\n",
       "    <tr style=\"text-align: right;\">\n",
       "      <th>Survived</th>\n",
       "      <th>0</th>\n",
       "      <th>1</th>\n",
       "    </tr>\n",
       "    <tr>\n",
       "      <th>Pclass</th>\n",
       "      <th></th>\n",
       "      <th></th>\n",
       "    </tr>\n",
       "  </thead>\n",
       "  <tbody>\n",
       "    <tr>\n",
       "      <th>1</th>\n",
       "      <td>80</td>\n",
       "      <td>136</td>\n",
       "    </tr>\n",
       "    <tr>\n",
       "      <th>2</th>\n",
       "      <td>97</td>\n",
       "      <td>87</td>\n",
       "    </tr>\n",
       "    <tr>\n",
       "      <th>3</th>\n",
       "      <td>372</td>\n",
       "      <td>119</td>\n",
       "    </tr>\n",
       "  </tbody>\n",
       "</table>\n",
       "</div>"
      ],
      "text/plain": [
       "Survived    0    1\n",
       "Pclass            \n",
       "1          80  136\n",
       "2          97   87\n",
       "3         372  119"
      ]
     },
     "execution_count": 8,
     "metadata": {},
     "output_type": "execute_result"
    }
   ],
   "source": [
    "pclass_ct = train.groupby('Pclass')['Survived'].value_counts().unstack()\n",
    "pclass_ct"
   ]
  },
  {
   "cell_type": "code",
   "execution_count": 9,
   "id": "9354c298",
   "metadata": {
    "execution": {
     "iopub.execute_input": "2023-02-07T11:27:14.675952Z",
     "iopub.status.busy": "2023-02-07T11:27:14.675558Z",
     "iopub.status.idle": "2023-02-07T11:27:14.901004Z",
     "shell.execute_reply": "2023-02-07T11:27:14.899681Z"
    },
    "id": "UK6I4UE66l-A",
    "outputId": "d1b8267a-c752-47d1-b09c-5c09c86c8903",
    "papermill": {
     "duration": 0.246197,
     "end_time": "2023-02-07T11:27:14.904330",
     "exception": false,
     "start_time": "2023-02-07T11:27:14.658133",
     "status": "completed"
    },
    "tags": []
   },
   "outputs": [
    {
     "data": {
      "image/png": "[encoded data removed]",
      "text/plain": [
       "<Figure size 720x360 with 1 Axes>"
      ]
     },
     "metadata": {
      "needs_background": "light"
     },
     "output_type": "display_data"
    }
   ],
   "source": [
    "plt.rc('figure')\n",
    "pclass_ct.plot(kind='bar', stacked=True)\n",
    "plt.legend(('Died', 'Survived'), loc='best')\n",
    "plt.title('Survivors by Pclass')\n",
    "plt.xlabel('Pclass')\n",
    "plt.ylabel('Count')\n",
    "plt.show()"
   ]
  },
  {
   "cell_type": "markdown",
   "id": "e3751b97",
   "metadata": {
    "id": "xYFc3KZV3UO_",
    "papermill": {
     "duration": 0.015958,
     "end_time": "2023-02-07T11:27:14.936917",
     "exception": false,
     "start_time": "2023-02-07T11:27:14.920959",
     "status": "completed"
    },
    "tags": []
   },
   "source": [
    "### The following show's the histogram of Age."
   ]
  },
  {
   "cell_type": "code",
   "execution_count": 10,
   "id": "b7b86376",
   "metadata": {
    "execution": {
     "iopub.execute_input": "2023-02-07T11:27:14.972591Z",
     "iopub.status.busy": "2023-02-07T11:27:14.971327Z",
     "iopub.status.idle": "2023-02-07T11:27:15.191028Z",
     "shell.execute_reply": "2023-02-07T11:27:15.189963Z"
    },
    "id": "3Pyjz7Uv4uaO",
    "outputId": "e9968b8d-b95d-4753-a9a5-c8b61b300f0a",
    "papermill": {
     "duration": 0.24091,
     "end_time": "2023-02-07T11:27:15.193718",
     "exception": false,
     "start_time": "2023-02-07T11:27:14.952808",
     "status": "completed"
    },
    "tags": []
   },
   "outputs": [
    {
     "data": {
      "text/plain": [
       "<AxesSubplot:>"
      ]
     },
     "execution_count": 10,
     "metadata": {},
     "output_type": "execute_result"
    },
    {
     "data": {
      "image/png": "[encoded data removed]",
      "text/plain": [
       "<Figure size 720x360 with 1 Axes>"
      ]
     },
     "metadata": {
      "needs_background": "light"
     },
     "output_type": "display_data"
    }
   ],
   "source": [
    "train['Age'].hist(bins=8)"
   ]
  },
  {
   "cell_type": "code",
   "execution_count": null,
   "id": "793d0a1a",
   "metadata": {
    "id": "2pVo_P7N6LZI",
    "papermill": {
     "duration": 0.01637,
     "end_time": "2023-02-07T11:27:15.226818",
     "exception": false,
     "start_time": "2023-02-07T11:27:15.210448",
     "status": "completed"
    },
    "tags": []
   },
   "outputs": [],
   "source": []
  },
  {
   "cell_type": "markdown",
   "id": "9c008cf0",
   "metadata": {
    "id": "qzF-j01T6kRk",
    "papermill": {
     "duration": 0.016094,
     "end_time": "2023-02-07T11:27:15.260255",
     "exception": false,
     "start_time": "2023-02-07T11:27:15.244161",
     "status": "completed"
    },
    "tags": []
   },
   "source": [
    "# 3. **Feature Engineering**"
   ]
  },
  {
   "cell_type": "markdown",
   "id": "ea555dee",
   "metadata": {
    "id": "xLByLACdfFEQ",
    "papermill": {
     "duration": 0.016069,
     "end_time": "2023-02-07T11:27:15.292714",
     "exception": false,
     "start_time": "2023-02-07T11:27:15.276645",
     "status": "completed"
    },
    "tags": []
   },
   "source": [
    "### **Handling Missing Values**\n",
    "\n",
    "### First let's look at what's the situation of the dataset. We can see, Age has 177 missing values, Cabin has 687 missing values and Embarked has 2 missing values"
   ]
  },
  {
   "cell_type": "code",
   "execution_count": 11,
   "id": "970f7206",
   "metadata": {
    "execution": {
     "iopub.execute_input": "2023-02-07T11:27:15.329367Z",
     "iopub.status.busy": "2023-02-07T11:27:15.328609Z",
     "iopub.status.idle": "2023-02-07T11:27:15.340333Z",
     "shell.execute_reply": "2023-02-07T11:27:15.339352Z"
    },
    "id": "aaOsKtD5dDDg",
    "outputId": "3e833d6e-8c07-4e95-aec8-16eee8758c72",
    "papermill": {
     "duration": 0.032522,
     "end_time": "2023-02-07T11:27:15.342907",
     "exception": false,
     "start_time": "2023-02-07T11:27:15.310385",
     "status": "completed"
    },
    "tags": []
   },
   "outputs": [
    {
     "data": {
      "text/plain": [
       "PassengerId      0\n",
       "Survived         0\n",
       "Pclass           0\n",
       "Name             0\n",
       "Sex              0\n",
       "Age            177\n",
       "SibSp            0\n",
       "Parch            0\n",
       "Ticket           0\n",
       "Fare             0\n",
       "Cabin          687\n",
       "Embarked         2\n",
       "dtype: int64"
      ]
     },
     "execution_count": 11,
     "metadata": {},
     "output_type": "execute_result"
    }
   ],
   "source": [
    "train.isnull().sum()"
   ]
  },
  {
   "cell_type": "code",
   "execution_count": 12,
   "id": "4fefdd93",
   "metadata": {
    "execution": {
     "iopub.execute_input": "2023-02-07T11:27:15.378411Z",
     "iopub.status.busy": "2023-02-07T11:27:15.377354Z",
     "iopub.status.idle": "2023-02-07T11:27:15.387947Z",
     "shell.execute_reply": "2023-02-07T11:27:15.386807Z"
    },
    "id": "eUAQOxnQdElP",
    "outputId": "15e4ebdf-8a0c-434b-e99c-1ee4bbcf4b25",
    "papermill": {
     "duration": 0.030742,
     "end_time": "2023-02-07T11:27:15.390257",
     "exception": false,
     "start_time": "2023-02-07T11:27:15.359515",
     "status": "completed"
    },
    "tags": []
   },
   "outputs": [
    {
     "data": {
      "text/plain": [
       "PassengerId      0\n",
       "Pclass           0\n",
       "Name             0\n",
       "Sex              0\n",
       "Age             86\n",
       "SibSp            0\n",
       "Parch            0\n",
       "Ticket           0\n",
       "Fare             1\n",
       "Cabin          327\n",
       "Embarked         0\n",
       "dtype: int64"
      ]
     },
     "execution_count": 12,
     "metadata": {},
     "output_type": "execute_result"
    }
   ],
   "source": [
    "test.isnull().sum()"
   ]
  },
  {
   "cell_type": "code",
   "execution_count": 13,
   "id": "bfc434c3",
   "metadata": {
    "execution": {
     "iopub.execute_input": "2023-02-07T11:27:15.425891Z",
     "iopub.status.busy": "2023-02-07T11:27:15.425224Z",
     "iopub.status.idle": "2023-02-07T11:27:15.461748Z",
     "shell.execute_reply": "2023-02-07T11:27:15.460463Z"
    },
    "papermill": {
     "duration": 0.057545,
     "end_time": "2023-02-07T11:27:15.464445",
     "exception": false,
     "start_time": "2023-02-07T11:27:15.406900",
     "status": "completed"
    },
    "tags": []
   },
   "outputs": [
    {
     "data": {
      "text/html": [
       "<div>\n",
       "<style scoped>\n",
       "    .dataframe tbody tr th:only-of-type {\n",
       "        vertical-align: middle;\n",
       "    }\n",
       "\n",
       "    .dataframe tbody tr th {\n",
       "        vertical-align: top;\n",
       "    }\n",
       "\n",
       "    .dataframe thead th {\n",
       "        text-align: right;\n",
       "    }\n",
       "</style>\n",
       "<table border=\"1\" class=\"dataframe\">\n",
       "  <thead>\n",
       "    <tr style=\"text-align: right;\">\n",
       "      <th></th>\n",
       "      <th>PassengerId</th>\n",
       "      <th>Survived</th>\n",
       "      <th>Pclass</th>\n",
       "      <th>Age</th>\n",
       "      <th>SibSp</th>\n",
       "      <th>Parch</th>\n",
       "      <th>Fare</th>\n",
       "    </tr>\n",
       "  </thead>\n",
       "  <tbody>\n",
       "    <tr>\n",
       "      <th>count</th>\n",
       "      <td>891.000000</td>\n",
       "      <td>891.000000</td>\n",
       "      <td>891.000000</td>\n",
       "      <td>714.000000</td>\n",
       "      <td>891.000000</td>\n",
       "      <td>891.000000</td>\n",
       "      <td>891.000000</td>\n",
       "    </tr>\n",
       "    <tr>\n",
       "      <th>mean</th>\n",
       "      <td>446.000000</td>\n",
       "      <td>0.383838</td>\n",
       "      <td>2.308642</td>\n",
       "      <td>29.699118</td>\n",
       "      <td>0.523008</td>\n",
       "      <td>0.381594</td>\n",
       "      <td>32.204208</td>\n",
       "    </tr>\n",
       "    <tr>\n",
       "      <th>std</th>\n",
       "      <td>257.353842</td>\n",
       "      <td>0.486592</td>\n",
       "      <td>0.836071</td>\n",
       "      <td>14.526497</td>\n",
       "      <td>1.102743</td>\n",
       "      <td>0.806057</td>\n",
       "      <td>49.693429</td>\n",
       "    </tr>\n",
       "    <tr>\n",
       "      <th>min</th>\n",
       "      <td>1.000000</td>\n",
       "      <td>0.000000</td>\n",
       "      <td>1.000000</td>\n",
       "      <td>0.420000</td>\n",
       "      <td>0.000000</td>\n",
       "      <td>0.000000</td>\n",
       "      <td>0.000000</td>\n",
       "    </tr>\n",
       "    <tr>\n",
       "      <th>25%</th>\n",
       "      <td>223.500000</td>\n",
       "      <td>0.000000</td>\n",
       "      <td>2.000000</td>\n",
       "      <td>20.125000</td>\n",
       "      <td>0.000000</td>\n",
       "      <td>0.000000</td>\n",
       "      <td>7.910400</td>\n",
       "    </tr>\n",
       "    <tr>\n",
       "      <th>50%</th>\n",
       "      <td>446.000000</td>\n",
       "      <td>0.000000</td>\n",
       "      <td>3.000000</td>\n",
       "      <td>28.000000</td>\n",
       "      <td>0.000000</td>\n",
       "      <td>0.000000</td>\n",
       "      <td>14.454200</td>\n",
       "    </tr>\n",
       "    <tr>\n",
       "      <th>75%</th>\n",
       "      <td>668.500000</td>\n",
       "      <td>1.000000</td>\n",
       "      <td>3.000000</td>\n",
       "      <td>38.000000</td>\n",
       "      <td>1.000000</td>\n",
       "      <td>0.000000</td>\n",
       "      <td>31.000000</td>\n",
       "    </tr>\n",
       "    <tr>\n",
       "      <th>max</th>\n",
       "      <td>891.000000</td>\n",
       "      <td>1.000000</td>\n",
       "      <td>3.000000</td>\n",
       "      <td>80.000000</td>\n",
       "      <td>8.000000</td>\n",
       "      <td>6.000000</td>\n",
       "      <td>512.329200</td>\n",
       "    </tr>\n",
       "  </tbody>\n",
       "</table>\n",
       "</div>"
      ],
      "text/plain": [
       "       PassengerId    Survived      Pclass         Age       SibSp  \\\n",
       "count   891.000000  891.000000  891.000000  714.000000  891.000000   \n",
       "mean    446.000000    0.383838    2.308642   29.699118    0.523008   \n",
       "std     257.353842    0.486592    0.836071   14.526497    1.102743   \n",
       "min       1.000000    0.000000    1.000000    0.420000    0.000000   \n",
       "25%     223.500000    0.000000    2.000000   20.125000    0.000000   \n",
       "50%     446.000000    0.000000    3.000000   28.000000    0.000000   \n",
       "75%     668.500000    1.000000    3.000000   38.000000    1.000000   \n",
       "max     891.000000    1.000000    3.000000   80.000000    8.000000   \n",
       "\n",
       "            Parch        Fare  \n",
       "count  891.000000  891.000000  \n",
       "mean     0.381594   32.204208  \n",
       "std      0.806057   49.693429  \n",
       "min      0.000000    0.000000  \n",
       "25%      0.000000    7.910400  \n",
       "50%      0.000000   14.454200  \n",
       "75%      0.000000   31.000000  \n",
       "max      6.000000  512.329200  "
      ]
     },
     "execution_count": 13,
     "metadata": {},
     "output_type": "execute_result"
    }
   ],
   "source": [
    "train.describe()"
   ]
  },
  {
   "cell_type": "code",
   "execution_count": 14,
   "id": "f847d0f8",
   "metadata": {
    "execution": {
     "iopub.execute_input": "2023-02-07T11:27:15.500221Z",
     "iopub.status.busy": "2023-02-07T11:27:15.499590Z",
     "iopub.status.idle": "2023-02-07T11:27:15.509536Z",
     "shell.execute_reply": "2023-02-07T11:27:15.508201Z"
    },
    "id": "GoMOWp0o4U9t",
    "outputId": "7a074b49-5544-4257-c8cf-3a72a5e5b172",
    "papermill": {
     "duration": 0.030781,
     "end_time": "2023-02-07T11:27:15.511963",
     "exception": false,
     "start_time": "2023-02-07T11:27:15.481182",
     "status": "completed"
    },
    "tags": []
   },
   "outputs": [
    {
     "data": {
      "text/plain": [
       "S    644\n",
       "C    168\n",
       "Q     77\n",
       "Name: Embarked, dtype: int64"
      ]
     },
     "execution_count": 14,
     "metadata": {},
     "output_type": "execute_result"
    }
   ],
   "source": [
    "train['Embarked'].value_counts()"
   ]
  },
  {
   "cell_type": "code",
   "execution_count": 15,
   "id": "682ec96b",
   "metadata": {
    "execution": {
     "iopub.execute_input": "2023-02-07T11:27:15.548398Z",
     "iopub.status.busy": "2023-02-07T11:27:15.547746Z",
     "iopub.status.idle": "2023-02-07T11:27:15.554740Z",
     "shell.execute_reply": "2023-02-07T11:27:15.553437Z"
    },
    "id": "UeruoWQez46H",
    "outputId": "50fe5255-c049-4041-b0ae-4a3bc8075e01",
    "papermill": {
     "duration": 0.028402,
     "end_time": "2023-02-07T11:27:15.557464",
     "exception": false,
     "start_time": "2023-02-07T11:27:15.529062",
     "status": "completed"
    },
    "tags": []
   },
   "outputs": [
    {
     "name": "stdout",
     "output_type": "stream",
     "text": [
      "Max age is 80.0\n",
      " Min age is 0.42\n"
     ]
    }
   ],
   "source": [
    "print(f\"Max age is {train['Age'].max()}\\n Min age is {train['Age'].min()}\")"
   ]
  },
  {
   "cell_type": "code",
   "execution_count": 16,
   "id": "95707313",
   "metadata": {
    "execution": {
     "iopub.execute_input": "2023-02-07T11:27:15.595176Z",
     "iopub.status.busy": "2023-02-07T11:27:15.593934Z",
     "iopub.status.idle": "2023-02-07T11:27:15.602201Z",
     "shell.execute_reply": "2023-02-07T11:27:15.601162Z"
    },
    "id": "rGJqghptuMVN",
    "outputId": "6032b68e-5eff-43d5-fe5b-805ac9245544",
    "papermill": {
     "duration": 0.029311,
     "end_time": "2023-02-07T11:27:15.604440",
     "exception": false,
     "start_time": "2023-02-07T11:27:15.575129",
     "status": "completed"
    },
    "tags": []
   },
   "outputs": [
    {
     "data": {
      "text/plain": [
       "177"
      ]
     },
     "execution_count": 16,
     "metadata": {},
     "output_type": "execute_result"
    }
   ],
   "source": [
    "train['Age'].isnull().sum()"
   ]
  },
  {
   "cell_type": "code",
   "execution_count": 17,
   "id": "7c5a8934",
   "metadata": {
    "execution": {
     "iopub.execute_input": "2023-02-07T11:27:15.641443Z",
     "iopub.status.busy": "2023-02-07T11:27:15.640792Z",
     "iopub.status.idle": "2023-02-07T11:27:15.648247Z",
     "shell.execute_reply": "2023-02-07T11:27:15.647324Z"
    },
    "id": "MXLYAXm13TTK",
    "papermill": {
     "duration": 0.029082,
     "end_time": "2023-02-07T11:27:15.650608",
     "exception": false,
     "start_time": "2023-02-07T11:27:15.621526",
     "status": "completed"
    },
    "tags": []
   },
   "outputs": [],
   "source": [
    "train['Age'].fillna(int(train['Age'].mean()), inplace=True)\n",
    "test['Age'].fillna(int(test['Age'].mean()),inplace=True)\n",
    "\n",
    "train['Embarked'].fillna('S',inplace=True)"
   ]
  },
  {
   "cell_type": "code",
   "execution_count": 18,
   "id": "e44bab6c",
   "metadata": {
    "execution": {
     "iopub.execute_input": "2023-02-07T11:27:15.688851Z",
     "iopub.status.busy": "2023-02-07T11:27:15.687969Z",
     "iopub.status.idle": "2023-02-07T11:27:15.699342Z",
     "shell.execute_reply": "2023-02-07T11:27:15.698109Z"
    },
    "papermill": {
     "duration": 0.032842,
     "end_time": "2023-02-07T11:27:15.701830",
     "exception": false,
     "start_time": "2023-02-07T11:27:15.668988",
     "status": "completed"
    },
    "tags": []
   },
   "outputs": [
    {
     "data": {
      "text/plain": [
       "PassengerId      0\n",
       "Survived         0\n",
       "Pclass           0\n",
       "Name             0\n",
       "Sex              0\n",
       "Age              0\n",
       "SibSp            0\n",
       "Parch            0\n",
       "Ticket           0\n",
       "Fare             0\n",
       "Cabin          687\n",
       "Embarked         0\n",
       "dtype: int64"
      ]
     },
     "execution_count": 18,
     "metadata": {},
     "output_type": "execute_result"
    }
   ],
   "source": [
    "train.isnull().sum()"
   ]
  },
  {
   "cell_type": "markdown",
   "id": "92240965",
   "metadata": {
    "id": "T24fIWlQ8vfX",
    "papermill": {
     "duration": 0.017072,
     "end_time": "2023-02-07T11:27:15.737286",
     "exception": false,
     "start_time": "2023-02-07T11:27:15.720214",
     "status": "completed"
    },
    "tags": []
   },
   "source": [
    "### **Check for missing value in test file**\n",
    "\n",
    "A fare is missing. Replace it with mean of fares."
   ]
  },
  {
   "cell_type": "code",
   "execution_count": 19,
   "id": "ddef6646",
   "metadata": {
    "execution": {
     "iopub.execute_input": "2023-02-07T11:27:15.774296Z",
     "iopub.status.busy": "2023-02-07T11:27:15.773556Z",
     "iopub.status.idle": "2023-02-07T11:27:15.782848Z",
     "shell.execute_reply": "2023-02-07T11:27:15.781950Z"
    },
    "id": "r8evFpd3805Q",
    "outputId": "6be13442-f001-4bc5-eb60-c04d5818f2e2",
    "papermill": {
     "duration": 0.030239,
     "end_time": "2023-02-07T11:27:15.785078",
     "exception": false,
     "start_time": "2023-02-07T11:27:15.754839",
     "status": "completed"
    },
    "tags": []
   },
   "outputs": [
    {
     "data": {
      "text/plain": [
       "PassengerId      0\n",
       "Pclass           0\n",
       "Name             0\n",
       "Sex              0\n",
       "Age              0\n",
       "SibSp            0\n",
       "Parch            0\n",
       "Ticket           0\n",
       "Fare             1\n",
       "Cabin          327\n",
       "Embarked         0\n",
       "dtype: int64"
      ]
     },
     "execution_count": 19,
     "metadata": {},
     "output_type": "execute_result"
    }
   ],
   "source": [
    "test.isnull().sum()"
   ]
  },
  {
   "cell_type": "code",
   "execution_count": 20,
   "id": "7d3bdbcd",
   "metadata": {
    "execution": {
     "iopub.execute_input": "2023-02-07T11:27:15.822037Z",
     "iopub.status.busy": "2023-02-07T11:27:15.821026Z",
     "iopub.status.idle": "2023-02-07T11:27:15.850700Z",
     "shell.execute_reply": "2023-02-07T11:27:15.849823Z"
    },
    "papermill": {
     "duration": 0.050721,
     "end_time": "2023-02-07T11:27:15.852960",
     "exception": false,
     "start_time": "2023-02-07T11:27:15.802239",
     "status": "completed"
    },
    "tags": []
   },
   "outputs": [
    {
     "data": {
      "text/html": [
       "<div>\n",
       "<style scoped>\n",
       "    .dataframe tbody tr th:only-of-type {\n",
       "        vertical-align: middle;\n",
       "    }\n",
       "\n",
       "    .dataframe tbody tr th {\n",
       "        vertical-align: top;\n",
       "    }\n",
       "\n",
       "    .dataframe thead th {\n",
       "        text-align: right;\n",
       "    }\n",
       "</style>\n",
       "<table border=\"1\" class=\"dataframe\">\n",
       "  <thead>\n",
       "    <tr style=\"text-align: right;\">\n",
       "      <th></th>\n",
       "      <th>PassengerId</th>\n",
       "      <th>Pclass</th>\n",
       "      <th>Age</th>\n",
       "      <th>SibSp</th>\n",
       "      <th>Parch</th>\n",
       "      <th>Fare</th>\n",
       "    </tr>\n",
       "  </thead>\n",
       "  <tbody>\n",
       "    <tr>\n",
       "      <th>count</th>\n",
       "      <td>418.000000</td>\n",
       "      <td>418.000000</td>\n",
       "      <td>418.000000</td>\n",
       "      <td>418.000000</td>\n",
       "      <td>418.000000</td>\n",
       "      <td>417.000000</td>\n",
       "    </tr>\n",
       "    <tr>\n",
       "      <th>mean</th>\n",
       "      <td>1100.500000</td>\n",
       "      <td>2.265550</td>\n",
       "      <td>30.216507</td>\n",
       "      <td>0.447368</td>\n",
       "      <td>0.392344</td>\n",
       "      <td>35.627188</td>\n",
       "    </tr>\n",
       "    <tr>\n",
       "      <th>std</th>\n",
       "      <td>120.810458</td>\n",
       "      <td>0.841838</td>\n",
       "      <td>12.635016</td>\n",
       "      <td>0.896760</td>\n",
       "      <td>0.981429</td>\n",
       "      <td>55.907576</td>\n",
       "    </tr>\n",
       "    <tr>\n",
       "      <th>min</th>\n",
       "      <td>892.000000</td>\n",
       "      <td>1.000000</td>\n",
       "      <td>0.170000</td>\n",
       "      <td>0.000000</td>\n",
       "      <td>0.000000</td>\n",
       "      <td>0.000000</td>\n",
       "    </tr>\n",
       "    <tr>\n",
       "      <th>25%</th>\n",
       "      <td>996.250000</td>\n",
       "      <td>1.000000</td>\n",
       "      <td>23.000000</td>\n",
       "      <td>0.000000</td>\n",
       "      <td>0.000000</td>\n",
       "      <td>7.895800</td>\n",
       "    </tr>\n",
       "    <tr>\n",
       "      <th>50%</th>\n",
       "      <td>1100.500000</td>\n",
       "      <td>3.000000</td>\n",
       "      <td>30.000000</td>\n",
       "      <td>0.000000</td>\n",
       "      <td>0.000000</td>\n",
       "      <td>14.454200</td>\n",
       "    </tr>\n",
       "    <tr>\n",
       "      <th>75%</th>\n",
       "      <td>1204.750000</td>\n",
       "      <td>3.000000</td>\n",
       "      <td>35.750000</td>\n",
       "      <td>1.000000</td>\n",
       "      <td>0.000000</td>\n",
       "      <td>31.500000</td>\n",
       "    </tr>\n",
       "    <tr>\n",
       "      <th>max</th>\n",
       "      <td>1309.000000</td>\n",
       "      <td>3.000000</td>\n",
       "      <td>76.000000</td>\n",
       "      <td>8.000000</td>\n",
       "      <td>9.000000</td>\n",
       "      <td>512.329200</td>\n",
       "    </tr>\n",
       "  </tbody>\n",
       "</table>\n",
       "</div>"
      ],
      "text/plain": [
       "       PassengerId      Pclass         Age       SibSp       Parch        Fare\n",
       "count   418.000000  418.000000  418.000000  418.000000  418.000000  417.000000\n",
       "mean   1100.500000    2.265550   30.216507    0.447368    0.392344   35.627188\n",
       "std     120.810458    0.841838   12.635016    0.896760    0.981429   55.907576\n",
       "min     892.000000    1.000000    0.170000    0.000000    0.000000    0.000000\n",
       "25%     996.250000    1.000000   23.000000    0.000000    0.000000    7.895800\n",
       "50%    1100.500000    3.000000   30.000000    0.000000    0.000000   14.454200\n",
       "75%    1204.750000    3.000000   35.750000    1.000000    0.000000   31.500000\n",
       "max    1309.000000    3.000000   76.000000    8.000000    9.000000  512.329200"
      ]
     },
     "execution_count": 20,
     "metadata": {},
     "output_type": "execute_result"
    }
   ],
   "source": [
    "test.describe()"
   ]
  },
  {
   "cell_type": "code",
   "execution_count": 21,
   "id": "22d28a2c",
   "metadata": {
    "execution": {
     "iopub.execute_input": "2023-02-07T11:27:15.890589Z",
     "iopub.status.busy": "2023-02-07T11:27:15.889901Z",
     "iopub.status.idle": "2023-02-07T11:27:15.895766Z",
     "shell.execute_reply": "2023-02-07T11:27:15.894750Z"
    },
    "id": "RWxDH60a82zQ",
    "papermill": {
     "duration": 0.027834,
     "end_time": "2023-02-07T11:27:15.898584",
     "exception": false,
     "start_time": "2023-02-07T11:27:15.870750",
     "status": "completed"
    },
    "tags": []
   },
   "outputs": [],
   "source": [
    "test['Fare'].fillna(test['Fare'].median(),inplace=True)"
   ]
  },
  {
   "cell_type": "code",
   "execution_count": 22,
   "id": "be0e0913",
   "metadata": {
    "execution": {
     "iopub.execute_input": "2023-02-07T11:27:15.937273Z",
     "iopub.status.busy": "2023-02-07T11:27:15.936830Z",
     "iopub.status.idle": "2023-02-07T11:27:15.947609Z",
     "shell.execute_reply": "2023-02-07T11:27:15.946308Z"
    },
    "papermill": {
     "duration": 0.032928,
     "end_time": "2023-02-07T11:27:15.949959",
     "exception": false,
     "start_time": "2023-02-07T11:27:15.917031",
     "status": "completed"
    },
    "tags": []
   },
   "outputs": [
    {
     "data": {
      "text/plain": [
       "PassengerId      0\n",
       "Pclass           0\n",
       "Name             0\n",
       "Sex              0\n",
       "Age              0\n",
       "SibSp            0\n",
       "Parch            0\n",
       "Ticket           0\n",
       "Fare             0\n",
       "Cabin          327\n",
       "Embarked         0\n",
       "dtype: int64"
      ]
     },
     "execution_count": 22,
     "metadata": {},
     "output_type": "execute_result"
    }
   ],
   "source": [
    "test.isnull().sum()"
   ]
  },
  {
   "cell_type": "code",
   "execution_count": 23,
   "id": "262969e4",
   "metadata": {
    "execution": {
     "iopub.execute_input": "2023-02-07T11:27:15.989638Z",
     "iopub.status.busy": "2023-02-07T11:27:15.988920Z",
     "iopub.status.idle": "2023-02-07T11:27:16.007390Z",
     "shell.execute_reply": "2023-02-07T11:27:16.005378Z"
    },
    "papermill": {
     "duration": 0.04284,
     "end_time": "2023-02-07T11:27:16.010976",
     "exception": false,
     "start_time": "2023-02-07T11:27:15.968136",
     "status": "completed"
    },
    "tags": []
   },
   "outputs": [
    {
     "name": "stdout",
     "output_type": "stream",
     "text": [
      "<class 'pandas.core.frame.DataFrame'>\n",
      "RangeIndex: 891 entries, 0 to 890\n",
      "Data columns (total 12 columns):\n",
      " #   Column       Non-Null Count  Dtype  \n",
      "---  ------       --------------  -----  \n",
      " 0   PassengerId  891 non-null    int64  \n",
      " 1   Survived     891 non-null    int64  \n",
      " 2   Pclass       891 non-null    int64  \n",
      " 3   Name         891 non-null    object \n",
      " 4   Sex          891 non-null    object \n",
      " 5   Age          891 non-null    float64\n",
      " 6   SibSp        891 non-null    int64  \n",
      " 7   Parch        891 non-null    int64  \n",
      " 8   Ticket       891 non-null    object \n",
      " 9   Fare         891 non-null    float64\n",
      " 10  Cabin        204 non-null    object \n",
      " 11  Embarked     891 non-null    object \n",
      "dtypes: float64(2), int64(5), object(5)\n",
      "memory usage: 83.7+ KB\n"
     ]
    }
   ],
   "source": [
    "train.info()"
   ]
  },
  {
   "cell_type": "markdown",
   "id": "fa5de9ba",
   "metadata": {
    "id": "hiJ2Mq5K7PWd",
    "papermill": {
     "duration": 0.018076,
     "end_time": "2023-02-07T11:27:16.047656",
     "exception": false,
     "start_time": "2023-02-07T11:27:16.029580",
     "status": "completed"
    },
    "tags": []
   },
   "source": [
    "Because machine learning algorithms assume (and require) your data to be numeric, categorical data must be pre-processed in order for it to be accepted. Transforming the nominal columns to numerical values. For example, replacing the 'males' with 0 and 'females' with 1 (Label Encoding). Also, creating one hot encoding for 'Embarked'."
   ]
  },
  {
   "cell_type": "code",
   "execution_count": 24,
   "id": "eb742d0d",
   "metadata": {
    "execution": {
     "iopub.execute_input": "2023-02-07T11:27:16.086719Z",
     "iopub.status.busy": "2023-02-07T11:27:16.085943Z",
     "iopub.status.idle": "2023-02-07T11:27:16.095215Z",
     "shell.execute_reply": "2023-02-07T11:27:16.093997Z"
    },
    "id": "Wbqeyxp46nl-",
    "papermill": {
     "duration": 0.031778,
     "end_time": "2023-02-07T11:27:16.098093",
     "exception": false,
     "start_time": "2023-02-07T11:27:16.066315",
     "status": "completed"
    },
    "tags": []
   },
   "outputs": [],
   "source": [
    "train['Sex'] = train['Sex'].replace('male', 0)\n",
    "train['Sex'] = train['Sex'].replace('female', 1)\n",
    "\n",
    "test['Sex'] = test['Sex'].replace('male', 0)\n",
    "test['Sex'] = test['Sex'].replace('female', 1)"
   ]
  },
  {
   "cell_type": "code",
   "execution_count": 25,
   "id": "0163a619",
   "metadata": {
    "execution": {
     "iopub.execute_input": "2023-02-07T11:27:16.136552Z",
     "iopub.status.busy": "2023-02-07T11:27:16.136057Z",
     "iopub.status.idle": "2023-02-07T11:27:16.149904Z",
     "shell.execute_reply": "2023-02-07T11:27:16.148894Z"
    },
    "papermill": {
     "duration": 0.036726,
     "end_time": "2023-02-07T11:27:16.152797",
     "exception": false,
     "start_time": "2023-02-07T11:27:16.116071",
     "status": "completed"
    },
    "tags": []
   },
   "outputs": [
    {
     "name": "stdout",
     "output_type": "stream",
     "text": [
      "<class 'pandas.core.frame.DataFrame'>\n",
      "RangeIndex: 891 entries, 0 to 890\n",
      "Data columns (total 12 columns):\n",
      " #   Column       Non-Null Count  Dtype  \n",
      "---  ------       --------------  -----  \n",
      " 0   PassengerId  891 non-null    int64  \n",
      " 1   Survived     891 non-null    int64  \n",
      " 2   Pclass       891 non-null    int64  \n",
      " 3   Name         891 non-null    object \n",
      " 4   Sex          891 non-null    int64  \n",
      " 5   Age          891 non-null    float64\n",
      " 6   SibSp        891 non-null    int64  \n",
      " 7   Parch        891 non-null    int64  \n",
      " 8   Ticket       891 non-null    object \n",
      " 9   Fare         891 non-null    float64\n",
      " 10  Cabin        204 non-null    object \n",
      " 11  Embarked     891 non-null    object \n",
      "dtypes: float64(2), int64(6), object(4)\n",
      "memory usage: 83.7+ KB\n"
     ]
    }
   ],
   "source": [
    "train.info()"
   ]
  },
  {
   "cell_type": "code",
   "execution_count": 26,
   "id": "239277d5",
   "metadata": {
    "execution": {
     "iopub.execute_input": "2023-02-07T11:27:16.192077Z",
     "iopub.status.busy": "2023-02-07T11:27:16.190911Z",
     "iopub.status.idle": "2023-02-07T11:27:16.199762Z",
     "shell.execute_reply": "2023-02-07T11:27:16.198555Z"
    },
    "papermill": {
     "duration": 0.03082,
     "end_time": "2023-02-07T11:27:16.202351",
     "exception": false,
     "start_time": "2023-02-07T11:27:16.171531",
     "status": "completed"
    },
    "tags": []
   },
   "outputs": [
    {
     "data": {
      "text/plain": [
       "S    646\n",
       "C    168\n",
       "Q     77\n",
       "Name: Embarked, dtype: int64"
      ]
     },
     "execution_count": 26,
     "metadata": {},
     "output_type": "execute_result"
    }
   ],
   "source": [
    "train['Embarked'].value_counts()"
   ]
  },
  {
   "cell_type": "code",
   "execution_count": 27,
   "id": "f76529f8",
   "metadata": {
    "execution": {
     "iopub.execute_input": "2023-02-07T11:27:16.241441Z",
     "iopub.status.busy": "2023-02-07T11:27:16.241012Z",
     "iopub.status.idle": "2023-02-07T11:27:16.268103Z",
     "shell.execute_reply": "2023-02-07T11:27:16.266990Z"
    },
    "papermill": {
     "duration": 0.04926,
     "end_time": "2023-02-07T11:27:16.270524",
     "exception": false,
     "start_time": "2023-02-07T11:27:16.221264",
     "status": "completed"
    },
    "tags": []
   },
   "outputs": [
    {
     "data": {
      "text/html": [
       "<div>\n",
       "<style scoped>\n",
       "    .dataframe tbody tr th:only-of-type {\n",
       "        vertical-align: middle;\n",
       "    }\n",
       "\n",
       "    .dataframe tbody tr th {\n",
       "        vertical-align: top;\n",
       "    }\n",
       "\n",
       "    .dataframe thead th {\n",
       "        text-align: right;\n",
       "    }\n",
       "</style>\n",
       "<table border=\"1\" class=\"dataframe\">\n",
       "  <thead>\n",
       "    <tr style=\"text-align: right;\">\n",
       "      <th></th>\n",
       "      <th>PassengerId</th>\n",
       "      <th>Survived</th>\n",
       "      <th>Pclass</th>\n",
       "      <th>Name</th>\n",
       "      <th>Sex</th>\n",
       "      <th>Age</th>\n",
       "      <th>SibSp</th>\n",
       "      <th>Parch</th>\n",
       "      <th>Ticket</th>\n",
       "      <th>Fare</th>\n",
       "      <th>Cabin</th>\n",
       "      <th>Embarked_Q</th>\n",
       "      <th>Embarked_S</th>\n",
       "    </tr>\n",
       "  </thead>\n",
       "  <tbody>\n",
       "    <tr>\n",
       "      <th>0</th>\n",
       "      <td>1</td>\n",
       "      <td>0</td>\n",
       "      <td>3</td>\n",
       "      <td>Braund, Mr. Owen Harris</td>\n",
       "      <td>0</td>\n",
       "      <td>22.0</td>\n",
       "      <td>1</td>\n",
       "      <td>0</td>\n",
       "      <td>A/5 21171</td>\n",
       "      <td>7.2500</td>\n",
       "      <td>NaN</td>\n",
       "      <td>0</td>\n",
       "      <td>1</td>\n",
       "    </tr>\n",
       "    <tr>\n",
       "      <th>1</th>\n",
       "      <td>2</td>\n",
       "      <td>1</td>\n",
       "      <td>1</td>\n",
       "      <td>Cumings, Mrs. John Bradley (Florence Briggs Th...</td>\n",
       "      <td>1</td>\n",
       "      <td>38.0</td>\n",
       "      <td>1</td>\n",
       "      <td>0</td>\n",
       "      <td>PC 17599</td>\n",
       "      <td>71.2833</td>\n",
       "      <td>C85</td>\n",
       "      <td>0</td>\n",
       "      <td>0</td>\n",
       "    </tr>\n",
       "    <tr>\n",
       "      <th>2</th>\n",
       "      <td>3</td>\n",
       "      <td>1</td>\n",
       "      <td>3</td>\n",
       "      <td>Heikkinen, Miss. Laina</td>\n",
       "      <td>1</td>\n",
       "      <td>26.0</td>\n",
       "      <td>0</td>\n",
       "      <td>0</td>\n",
       "      <td>STON/O2. 3101282</td>\n",
       "      <td>7.9250</td>\n",
       "      <td>NaN</td>\n",
       "      <td>0</td>\n",
       "      <td>1</td>\n",
       "    </tr>\n",
       "    <tr>\n",
       "      <th>3</th>\n",
       "      <td>4</td>\n",
       "      <td>1</td>\n",
       "      <td>1</td>\n",
       "      <td>Futrelle, Mrs. Jacques Heath (Lily May Peel)</td>\n",
       "      <td>1</td>\n",
       "      <td>35.0</td>\n",
       "      <td>1</td>\n",
       "      <td>0</td>\n",
       "      <td>113803</td>\n",
       "      <td>53.1000</td>\n",
       "      <td>C123</td>\n",
       "      <td>0</td>\n",
       "      <td>1</td>\n",
       "    </tr>\n",
       "    <tr>\n",
       "      <th>4</th>\n",
       "      <td>5</td>\n",
       "      <td>0</td>\n",
       "      <td>3</td>\n",
       "      <td>Allen, Mr. William Henry</td>\n",
       "      <td>0</td>\n",
       "      <td>35.0</td>\n",
       "      <td>0</td>\n",
       "      <td>0</td>\n",
       "      <td>373450</td>\n",
       "      <td>8.0500</td>\n",
       "      <td>NaN</td>\n",
       "      <td>0</td>\n",
       "      <td>1</td>\n",
       "    </tr>\n",
       "    <tr>\n",
       "      <th>...</th>\n",
       "      <td>...</td>\n",
       "      <td>...</td>\n",
       "      <td>...</td>\n",
       "      <td>...</td>\n",
       "      <td>...</td>\n",
       "      <td>...</td>\n",
       "      <td>...</td>\n",
       "      <td>...</td>\n",
       "      <td>...</td>\n",
       "      <td>...</td>\n",
       "      <td>...</td>\n",
       "      <td>...</td>\n",
       "      <td>...</td>\n",
       "    </tr>\n",
       "    <tr>\n",
       "      <th>886</th>\n",
       "      <td>887</td>\n",
       "      <td>0</td>\n",
       "      <td>2</td>\n",
       "      <td>Montvila, Rev. Juozas</td>\n",
       "      <td>0</td>\n",
       "      <td>27.0</td>\n",
       "      <td>0</td>\n",
       "      <td>0</td>\n",
       "      <td>211536</td>\n",
       "      <td>13.0000</td>\n",
       "      <td>NaN</td>\n",
       "      <td>0</td>\n",
       "      <td>1</td>\n",
       "    </tr>\n",
       "    <tr>\n",
       "      <th>887</th>\n",
       "      <td>888</td>\n",
       "      <td>1</td>\n",
       "      <td>1</td>\n",
       "      <td>Graham, Miss. Margaret Edith</td>\n",
       "      <td>1</td>\n",
       "      <td>19.0</td>\n",
       "      <td>0</td>\n",
       "      <td>0</td>\n",
       "      <td>112053</td>\n",
       "      <td>30.0000</td>\n",
       "      <td>B42</td>\n",
       "      <td>0</td>\n",
       "      <td>1</td>\n",
       "    </tr>\n",
       "    <tr>\n",
       "      <th>888</th>\n",
       "      <td>889</td>\n",
       "      <td>0</td>\n",
       "      <td>3</td>\n",
       "      <td>Johnston, Miss. Catherine Helen \"Carrie\"</td>\n",
       "      <td>1</td>\n",
       "      <td>29.0</td>\n",
       "      <td>1</td>\n",
       "      <td>2</td>\n",
       "      <td>W./C. 6607</td>\n",
       "      <td>23.4500</td>\n",
       "      <td>NaN</td>\n",
       "      <td>0</td>\n",
       "      <td>1</td>\n",
       "    </tr>\n",
       "    <tr>\n",
       "      <th>889</th>\n",
       "      <td>890</td>\n",
       "      <td>1</td>\n",
       "      <td>1</td>\n",
       "      <td>Behr, Mr. Karl Howell</td>\n",
       "      <td>0</td>\n",
       "      <td>26.0</td>\n",
       "      <td>0</td>\n",
       "      <td>0</td>\n",
       "      <td>111369</td>\n",
       "      <td>30.0000</td>\n",
       "      <td>C148</td>\n",
       "      <td>0</td>\n",
       "      <td>0</td>\n",
       "    </tr>\n",
       "    <tr>\n",
       "      <th>890</th>\n",
       "      <td>891</td>\n",
       "      <td>0</td>\n",
       "      <td>3</td>\n",
       "      <td>Dooley, Mr. Patrick</td>\n",
       "      <td>0</td>\n",
       "      <td>32.0</td>\n",
       "      <td>0</td>\n",
       "      <td>0</td>\n",
       "      <td>370376</td>\n",
       "      <td>7.7500</td>\n",
       "      <td>NaN</td>\n",
       "      <td>1</td>\n",
       "      <td>0</td>\n",
       "    </tr>\n",
       "  </tbody>\n",
       "</table>\n",
       "<p>891 rows × 13 columns</p>\n",
       "</div>"
      ],
      "text/plain": [
       "     PassengerId  Survived  Pclass  \\\n",
       "0              1         0       3   \n",
       "1              2         1       1   \n",
       "2              3         1       3   \n",
       "3              4         1       1   \n",
       "4              5         0       3   \n",
       "..           ...       ...     ...   \n",
       "886          887         0       2   \n",
       "887          888         1       1   \n",
       "888          889         0       3   \n",
       "889          890         1       1   \n",
       "890          891         0       3   \n",
       "\n",
       "                                                  Name  Sex   Age  SibSp  \\\n",
       "0                              Braund, Mr. Owen Harris    0  22.0      1   \n",
       "1    Cumings, Mrs. John Bradley (Florence Briggs Th...    1  38.0      1   \n",
       "2                               Heikkinen, Miss. Laina    1  26.0      0   \n",
       "3         Futrelle, Mrs. Jacques Heath (Lily May Peel)    1  35.0      1   \n",
       "4                             Allen, Mr. William Henry    0  35.0      0   \n",
       "..                                                 ...  ...   ...    ...   \n",
       "886                              Montvila, Rev. Juozas    0  27.0      0   \n",
       "887                       Graham, Miss. Margaret Edith    1  19.0      0   \n",
       "888           Johnston, Miss. Catherine Helen \"Carrie\"    1  29.0      1   \n",
       "889                              Behr, Mr. Karl Howell    0  26.0      0   \n",
       "890                                Dooley, Mr. Patrick    0  32.0      0   \n",
       "\n",
       "     Parch            Ticket     Fare Cabin  Embarked_Q  Embarked_S  \n",
       "0        0         A/5 21171   7.2500   NaN           0           1  \n",
       "1        0          PC 17599  71.2833   C85           0           0  \n",
       "2        0  STON/O2. 3101282   7.9250   NaN           0           1  \n",
       "3        0            113803  53.1000  C123           0           1  \n",
       "4        0            373450   8.0500   NaN           0           1  \n",
       "..     ...               ...      ...   ...         ...         ...  \n",
       "886      0            211536  13.0000   NaN           0           1  \n",
       "887      0            112053  30.0000   B42           0           1  \n",
       "888      2        W./C. 6607  23.4500   NaN           0           1  \n",
       "889      0            111369  30.0000  C148           0           0  \n",
       "890      0            370376   7.7500   NaN           1           0  \n",
       "\n",
       "[891 rows x 13 columns]"
      ]
     },
     "execution_count": 27,
     "metadata": {},
     "output_type": "execute_result"
    }
   ],
   "source": [
    "train_updated=pd.get_dummies(train, columns = ['Embarked'],drop_first=True)\n",
    "train_updated"
   ]
  },
  {
   "cell_type": "code",
   "execution_count": 28,
   "id": "7828ae7d",
   "metadata": {
    "execution": {
     "iopub.execute_input": "2023-02-07T11:27:16.309610Z",
     "iopub.status.busy": "2023-02-07T11:27:16.309162Z",
     "iopub.status.idle": "2023-02-07T11:27:16.336347Z",
     "shell.execute_reply": "2023-02-07T11:27:16.335103Z"
    },
    "papermill": {
     "duration": 0.049709,
     "end_time": "2023-02-07T11:27:16.338821",
     "exception": false,
     "start_time": "2023-02-07T11:27:16.289112",
     "status": "completed"
    },
    "tags": []
   },
   "outputs": [
    {
     "data": {
      "text/html": [
       "<div>\n",
       "<style scoped>\n",
       "    .dataframe tbody tr th:only-of-type {\n",
       "        vertical-align: middle;\n",
       "    }\n",
       "\n",
       "    .dataframe tbody tr th {\n",
       "        vertical-align: top;\n",
       "    }\n",
       "\n",
       "    .dataframe thead th {\n",
       "        text-align: right;\n",
       "    }\n",
       "</style>\n",
       "<table border=\"1\" class=\"dataframe\">\n",
       "  <thead>\n",
       "    <tr style=\"text-align: right;\">\n",
       "      <th></th>\n",
       "      <th>PassengerId</th>\n",
       "      <th>Pclass</th>\n",
       "      <th>Name</th>\n",
       "      <th>Sex</th>\n",
       "      <th>Age</th>\n",
       "      <th>SibSp</th>\n",
       "      <th>Parch</th>\n",
       "      <th>Ticket</th>\n",
       "      <th>Fare</th>\n",
       "      <th>Cabin</th>\n",
       "      <th>Embarked_Q</th>\n",
       "      <th>Embarked_S</th>\n",
       "    </tr>\n",
       "  </thead>\n",
       "  <tbody>\n",
       "    <tr>\n",
       "      <th>0</th>\n",
       "      <td>892</td>\n",
       "      <td>3</td>\n",
       "      <td>Kelly, Mr. James</td>\n",
       "      <td>0</td>\n",
       "      <td>34.5</td>\n",
       "      <td>0</td>\n",
       "      <td>0</td>\n",
       "      <td>330911</td>\n",
       "      <td>7.8292</td>\n",
       "      <td>NaN</td>\n",
       "      <td>1</td>\n",
       "      <td>0</td>\n",
       "    </tr>\n",
       "    <tr>\n",
       "      <th>1</th>\n",
       "      <td>893</td>\n",
       "      <td>3</td>\n",
       "      <td>Wilkes, Mrs. James (Ellen Needs)</td>\n",
       "      <td>1</td>\n",
       "      <td>47.0</td>\n",
       "      <td>1</td>\n",
       "      <td>0</td>\n",
       "      <td>363272</td>\n",
       "      <td>7.0000</td>\n",
       "      <td>NaN</td>\n",
       "      <td>0</td>\n",
       "      <td>1</td>\n",
       "    </tr>\n",
       "    <tr>\n",
       "      <th>2</th>\n",
       "      <td>894</td>\n",
       "      <td>2</td>\n",
       "      <td>Myles, Mr. Thomas Francis</td>\n",
       "      <td>0</td>\n",
       "      <td>62.0</td>\n",
       "      <td>0</td>\n",
       "      <td>0</td>\n",
       "      <td>240276</td>\n",
       "      <td>9.6875</td>\n",
       "      <td>NaN</td>\n",
       "      <td>1</td>\n",
       "      <td>0</td>\n",
       "    </tr>\n",
       "    <tr>\n",
       "      <th>3</th>\n",
       "      <td>895</td>\n",
       "      <td>3</td>\n",
       "      <td>Wirz, Mr. Albert</td>\n",
       "      <td>0</td>\n",
       "      <td>27.0</td>\n",
       "      <td>0</td>\n",
       "      <td>0</td>\n",
       "      <td>315154</td>\n",
       "      <td>8.6625</td>\n",
       "      <td>NaN</td>\n",
       "      <td>0</td>\n",
       "      <td>1</td>\n",
       "    </tr>\n",
       "    <tr>\n",
       "      <th>4</th>\n",
       "      <td>896</td>\n",
       "      <td>3</td>\n",
       "      <td>Hirvonen, Mrs. Alexander (Helga E Lindqvist)</td>\n",
       "      <td>1</td>\n",
       "      <td>22.0</td>\n",
       "      <td>1</td>\n",
       "      <td>1</td>\n",
       "      <td>3101298</td>\n",
       "      <td>12.2875</td>\n",
       "      <td>NaN</td>\n",
       "      <td>0</td>\n",
       "      <td>1</td>\n",
       "    </tr>\n",
       "    <tr>\n",
       "      <th>...</th>\n",
       "      <td>...</td>\n",
       "      <td>...</td>\n",
       "      <td>...</td>\n",
       "      <td>...</td>\n",
       "      <td>...</td>\n",
       "      <td>...</td>\n",
       "      <td>...</td>\n",
       "      <td>...</td>\n",
       "      <td>...</td>\n",
       "      <td>...</td>\n",
       "      <td>...</td>\n",
       "      <td>...</td>\n",
       "    </tr>\n",
       "    <tr>\n",
       "      <th>413</th>\n",
       "      <td>1305</td>\n",
       "      <td>3</td>\n",
       "      <td>Spector, Mr. Woolf</td>\n",
       "      <td>0</td>\n",
       "      <td>30.0</td>\n",
       "      <td>0</td>\n",
       "      <td>0</td>\n",
       "      <td>A.5. 3236</td>\n",
       "      <td>8.0500</td>\n",
       "      <td>NaN</td>\n",
       "      <td>0</td>\n",
       "      <td>1</td>\n",
       "    </tr>\n",
       "    <tr>\n",
       "      <th>414</th>\n",
       "      <td>1306</td>\n",
       "      <td>1</td>\n",
       "      <td>Oliva y Ocana, Dona. Fermina</td>\n",
       "      <td>1</td>\n",
       "      <td>39.0</td>\n",
       "      <td>0</td>\n",
       "      <td>0</td>\n",
       "      <td>PC 17758</td>\n",
       "      <td>108.9000</td>\n",
       "      <td>C105</td>\n",
       "      <td>0</td>\n",
       "      <td>0</td>\n",
       "    </tr>\n",
       "    <tr>\n",
       "      <th>415</th>\n",
       "      <td>1307</td>\n",
       "      <td>3</td>\n",
       "      <td>Saether, Mr. Simon Sivertsen</td>\n",
       "      <td>0</td>\n",
       "      <td>38.5</td>\n",
       "      <td>0</td>\n",
       "      <td>0</td>\n",
       "      <td>SOTON/O.Q. 3101262</td>\n",
       "      <td>7.2500</td>\n",
       "      <td>NaN</td>\n",
       "      <td>0</td>\n",
       "      <td>1</td>\n",
       "    </tr>\n",
       "    <tr>\n",
       "      <th>416</th>\n",
       "      <td>1308</td>\n",
       "      <td>3</td>\n",
       "      <td>Ware, Mr. Frederick</td>\n",
       "      <td>0</td>\n",
       "      <td>30.0</td>\n",
       "      <td>0</td>\n",
       "      <td>0</td>\n",
       "      <td>359309</td>\n",
       "      <td>8.0500</td>\n",
       "      <td>NaN</td>\n",
       "      <td>0</td>\n",
       "      <td>1</td>\n",
       "    </tr>\n",
       "    <tr>\n",
       "      <th>417</th>\n",
       "      <td>1309</td>\n",
       "      <td>3</td>\n",
       "      <td>Peter, Master. Michael J</td>\n",
       "      <td>0</td>\n",
       "      <td>30.0</td>\n",
       "      <td>1</td>\n",
       "      <td>1</td>\n",
       "      <td>2668</td>\n",
       "      <td>22.3583</td>\n",
       "      <td>NaN</td>\n",
       "      <td>0</td>\n",
       "      <td>0</td>\n",
       "    </tr>\n",
       "  </tbody>\n",
       "</table>\n",
       "<p>418 rows × 12 columns</p>\n",
       "</div>"
      ],
      "text/plain": [
       "     PassengerId  Pclass                                          Name  Sex  \\\n",
       "0            892       3                              Kelly, Mr. James    0   \n",
       "1            893       3              Wilkes, Mrs. James (Ellen Needs)    1   \n",
       "2            894       2                     Myles, Mr. Thomas Francis    0   \n",
       "3            895       3                              Wirz, Mr. Albert    0   \n",
       "4            896       3  Hirvonen, Mrs. Alexander (Helga E Lindqvist)    1   \n",
       "..           ...     ...                                           ...  ...   \n",
       "413         1305       3                            Spector, Mr. Woolf    0   \n",
       "414         1306       1                  Oliva y Ocana, Dona. Fermina    1   \n",
       "415         1307       3                  Saether, Mr. Simon Sivertsen    0   \n",
       "416         1308       3                           Ware, Mr. Frederick    0   \n",
       "417         1309       3                      Peter, Master. Michael J    0   \n",
       "\n",
       "      Age  SibSp  Parch              Ticket      Fare Cabin  Embarked_Q  \\\n",
       "0    34.5      0      0              330911    7.8292   NaN           1   \n",
       "1    47.0      1      0              363272    7.0000   NaN           0   \n",
       "2    62.0      0      0              240276    9.6875   NaN           1   \n",
       "3    27.0      0      0              315154    8.6625   NaN           0   \n",
       "4    22.0      1      1             3101298   12.2875   NaN           0   \n",
       "..    ...    ...    ...                 ...       ...   ...         ...   \n",
       "413  30.0      0      0           A.5. 3236    8.0500   NaN           0   \n",
       "414  39.0      0      0            PC 17758  108.9000  C105           0   \n",
       "415  38.5      0      0  SOTON/O.Q. 3101262    7.2500   NaN           0   \n",
       "416  30.0      0      0              359309    8.0500   NaN           0   \n",
       "417  30.0      1      1                2668   22.3583   NaN           0   \n",
       "\n",
       "     Embarked_S  \n",
       "0             0  \n",
       "1             1  \n",
       "2             0  \n",
       "3             1  \n",
       "4             1  \n",
       "..          ...  \n",
       "413           1  \n",
       "414           0  \n",
       "415           1  \n",
       "416           1  \n",
       "417           0  \n",
       "\n",
       "[418 rows x 12 columns]"
      ]
     },
     "execution_count": 28,
     "metadata": {},
     "output_type": "execute_result"
    }
   ],
   "source": [
    "test_updated=pd.get_dummies(test, columns = ['Embarked'],drop_first=True)\n",
    "test_updated"
   ]
  },
  {
   "cell_type": "markdown",
   "id": "18954ca3",
   "metadata": {
    "id": "klS73mSt_H6O",
    "papermill": {
     "duration": 0.018704,
     "end_time": "2023-02-07T11:27:16.376710",
     "exception": false,
     "start_time": "2023-02-07T11:27:16.358006",
     "status": "completed"
    },
    "tags": []
   },
   "source": [
    "### **Dropping Columns**\n",
    "\n",
    "We need to eliminate some columns as they are not essential.\n",
    "\n",
    "The Ticket column contains unique values, which are not necessary for training our models.\n",
    "The Name column can be safely dropped as it does not impact the overall dataset.\n",
    "The PassengerId column consists of unique values and can be removed.\n",
    "Given the large amount of missing data in the Cabin column, it is more efficient to remove it rather than attempt to predict the values."
   ]
  },
  {
   "cell_type": "code",
   "execution_count": 29,
   "id": "b7b9204f",
   "metadata": {
    "execution": {
     "iopub.execute_input": "2023-02-07T11:27:16.417340Z",
     "iopub.status.busy": "2023-02-07T11:27:16.416507Z",
     "iopub.status.idle": "2023-02-07T11:27:16.424200Z",
     "shell.execute_reply": "2023-02-07T11:27:16.423333Z"
    },
    "papermill": {
     "duration": 0.030491,
     "end_time": "2023-02-07T11:27:16.426788",
     "exception": false,
     "start_time": "2023-02-07T11:27:16.396297",
     "status": "completed"
    },
    "tags": []
   },
   "outputs": [],
   "source": [
    "train_updated.drop(['Name', 'Cabin', 'Ticket', 'PassengerId'], inplace=True, axis=1)\n",
    "test_updated.drop(['Name', 'Cabin', 'Ticket', 'PassengerId'], inplace=True, axis=1)"
   ]
  },
  {
   "cell_type": "code",
   "execution_count": 30,
   "id": "c8e749b8",
   "metadata": {
    "execution": {
     "iopub.execute_input": "2023-02-07T11:27:16.467648Z",
     "iopub.status.busy": "2023-02-07T11:27:16.466915Z",
     "iopub.status.idle": "2023-02-07T11:27:16.485769Z",
     "shell.execute_reply": "2023-02-07T11:27:16.484476Z"
    },
    "papermill": {
     "duration": 0.042815,
     "end_time": "2023-02-07T11:27:16.488902",
     "exception": false,
     "start_time": "2023-02-07T11:27:16.446087",
     "status": "completed"
    },
    "tags": []
   },
   "outputs": [
    {
     "data": {
      "text/html": [
       "<div>\n",
       "<style scoped>\n",
       "    .dataframe tbody tr th:only-of-type {\n",
       "        vertical-align: middle;\n",
       "    }\n",
       "\n",
       "    .dataframe tbody tr th {\n",
       "        vertical-align: top;\n",
       "    }\n",
       "\n",
       "    .dataframe thead th {\n",
       "        text-align: right;\n",
       "    }\n",
       "</style>\n",
       "<table border=\"1\" class=\"dataframe\">\n",
       "  <thead>\n",
       "    <tr style=\"text-align: right;\">\n",
       "      <th></th>\n",
       "      <th>Survived</th>\n",
       "      <th>Pclass</th>\n",
       "      <th>Sex</th>\n",
       "      <th>Age</th>\n",
       "      <th>SibSp</th>\n",
       "      <th>Parch</th>\n",
       "      <th>Fare</th>\n",
       "      <th>Embarked_Q</th>\n",
       "      <th>Embarked_S</th>\n",
       "    </tr>\n",
       "  </thead>\n",
       "  <tbody>\n",
       "    <tr>\n",
       "      <th>0</th>\n",
       "      <td>0</td>\n",
       "      <td>3</td>\n",
       "      <td>0</td>\n",
       "      <td>22.0</td>\n",
       "      <td>1</td>\n",
       "      <td>0</td>\n",
       "      <td>7.2500</td>\n",
       "      <td>0</td>\n",
       "      <td>1</td>\n",
       "    </tr>\n",
       "    <tr>\n",
       "      <th>1</th>\n",
       "      <td>1</td>\n",
       "      <td>1</td>\n",
       "      <td>1</td>\n",
       "      <td>38.0</td>\n",
       "      <td>1</td>\n",
       "      <td>0</td>\n",
       "      <td>71.2833</td>\n",
       "      <td>0</td>\n",
       "      <td>0</td>\n",
       "    </tr>\n",
       "    <tr>\n",
       "      <th>2</th>\n",
       "      <td>1</td>\n",
       "      <td>3</td>\n",
       "      <td>1</td>\n",
       "      <td>26.0</td>\n",
       "      <td>0</td>\n",
       "      <td>0</td>\n",
       "      <td>7.9250</td>\n",
       "      <td>0</td>\n",
       "      <td>1</td>\n",
       "    </tr>\n",
       "    <tr>\n",
       "      <th>3</th>\n",
       "      <td>1</td>\n",
       "      <td>1</td>\n",
       "      <td>1</td>\n",
       "      <td>35.0</td>\n",
       "      <td>1</td>\n",
       "      <td>0</td>\n",
       "      <td>53.1000</td>\n",
       "      <td>0</td>\n",
       "      <td>1</td>\n",
       "    </tr>\n",
       "    <tr>\n",
       "      <th>4</th>\n",
       "      <td>0</td>\n",
       "      <td>3</td>\n",
       "      <td>0</td>\n",
       "      <td>35.0</td>\n",
       "      <td>0</td>\n",
       "      <td>0</td>\n",
       "      <td>8.0500</td>\n",
       "      <td>0</td>\n",
       "      <td>1</td>\n",
       "    </tr>\n",
       "    <tr>\n",
       "      <th>...</th>\n",
       "      <td>...</td>\n",
       "      <td>...</td>\n",
       "      <td>...</td>\n",
       "      <td>...</td>\n",
       "      <td>...</td>\n",
       "      <td>...</td>\n",
       "      <td>...</td>\n",
       "      <td>...</td>\n",
       "      <td>...</td>\n",
       "    </tr>\n",
       "    <tr>\n",
       "      <th>886</th>\n",
       "      <td>0</td>\n",
       "      <td>2</td>\n",
       "      <td>0</td>\n",
       "      <td>27.0</td>\n",
       "      <td>0</td>\n",
       "      <td>0</td>\n",
       "      <td>13.0000</td>\n",
       "      <td>0</td>\n",
       "      <td>1</td>\n",
       "    </tr>\n",
       "    <tr>\n",
       "      <th>887</th>\n",
       "      <td>1</td>\n",
       "      <td>1</td>\n",
       "      <td>1</td>\n",
       "      <td>19.0</td>\n",
       "      <td>0</td>\n",
       "      <td>0</td>\n",
       "      <td>30.0000</td>\n",
       "      <td>0</td>\n",
       "      <td>1</td>\n",
       "    </tr>\n",
       "    <tr>\n",
       "      <th>888</th>\n",
       "      <td>0</td>\n",
       "      <td>3</td>\n",
       "      <td>1</td>\n",
       "      <td>29.0</td>\n",
       "      <td>1</td>\n",
       "      <td>2</td>\n",
       "      <td>23.4500</td>\n",
       "      <td>0</td>\n",
       "      <td>1</td>\n",
       "    </tr>\n",
       "    <tr>\n",
       "      <th>889</th>\n",
       "      <td>1</td>\n",
       "      <td>1</td>\n",
       "      <td>0</td>\n",
       "      <td>26.0</td>\n",
       "      <td>0</td>\n",
       "      <td>0</td>\n",
       "      <td>30.0000</td>\n",
       "      <td>0</td>\n",
       "      <td>0</td>\n",
       "    </tr>\n",
       "    <tr>\n",
       "      <th>890</th>\n",
       "      <td>0</td>\n",
       "      <td>3</td>\n",
       "      <td>0</td>\n",
       "      <td>32.0</td>\n",
       "      <td>0</td>\n",
       "      <td>0</td>\n",
       "      <td>7.7500</td>\n",
       "      <td>1</td>\n",
       "      <td>0</td>\n",
       "    </tr>\n",
       "  </tbody>\n",
       "</table>\n",
       "<p>891 rows × 9 columns</p>\n",
       "</div>"
      ],
      "text/plain": [
       "     Survived  Pclass  Sex   Age  SibSp  Parch     Fare  Embarked_Q  \\\n",
       "0           0       3    0  22.0      1      0   7.2500           0   \n",
       "1           1       1    1  38.0      1      0  71.2833           0   \n",
       "2           1       3    1  26.0      0      0   7.9250           0   \n",
       "3           1       1    1  35.0      1      0  53.1000           0   \n",
       "4           0       3    0  35.0      0      0   8.0500           0   \n",
       "..        ...     ...  ...   ...    ...    ...      ...         ...   \n",
       "886         0       2    0  27.0      0      0  13.0000           0   \n",
       "887         1       1    1  19.0      0      0  30.0000           0   \n",
       "888         0       3    1  29.0      1      2  23.4500           0   \n",
       "889         1       1    0  26.0      0      0  30.0000           0   \n",
       "890         0       3    0  32.0      0      0   7.7500           1   \n",
       "\n",
       "     Embarked_S  \n",
       "0             1  \n",
       "1             0  \n",
       "2             1  \n",
       "3             1  \n",
       "4             1  \n",
       "..          ...  \n",
       "886           1  \n",
       "887           1  \n",
       "888           1  \n",
       "889           0  \n",
       "890           0  \n",
       "\n",
       "[891 rows x 9 columns]"
      ]
     },
     "execution_count": 30,
     "metadata": {},
     "output_type": "execute_result"
    }
   ],
   "source": [
    "train_updated"
   ]
  },
  {
   "cell_type": "code",
   "execution_count": 31,
   "id": "33e812af",
   "metadata": {
    "execution": {
     "iopub.execute_input": "2023-02-07T11:27:16.530115Z",
     "iopub.status.busy": "2023-02-07T11:27:16.529687Z",
     "iopub.status.idle": "2023-02-07T11:27:16.545553Z",
     "shell.execute_reply": "2023-02-07T11:27:16.543959Z"
    },
    "papermill": {
     "duration": 0.040108,
     "end_time": "2023-02-07T11:27:16.548798",
     "exception": false,
     "start_time": "2023-02-07T11:27:16.508690",
     "status": "completed"
    },
    "tags": []
   },
   "outputs": [
    {
     "name": "stdout",
     "output_type": "stream",
     "text": [
      "<class 'pandas.core.frame.DataFrame'>\n",
      "RangeIndex: 891 entries, 0 to 890\n",
      "Data columns (total 9 columns):\n",
      " #   Column      Non-Null Count  Dtype  \n",
      "---  ------      --------------  -----  \n",
      " 0   Survived    891 non-null    int64  \n",
      " 1   Pclass      891 non-null    int64  \n",
      " 2   Sex         891 non-null    int64  \n",
      " 3   Age         891 non-null    float64\n",
      " 4   SibSp       891 non-null    int64  \n",
      " 5   Parch       891 non-null    int64  \n",
      " 6   Fare        891 non-null    float64\n",
      " 7   Embarked_Q  891 non-null    uint8  \n",
      " 8   Embarked_S  891 non-null    uint8  \n",
      "dtypes: float64(2), int64(5), uint8(2)\n",
      "memory usage: 50.6 KB\n"
     ]
    }
   ],
   "source": [
    "train_updated.info()"
   ]
  },
  {
   "cell_type": "code",
   "execution_count": 32,
   "id": "8d6e52c0",
   "metadata": {
    "execution": {
     "iopub.execute_input": "2023-02-07T11:27:16.590989Z",
     "iopub.status.busy": "2023-02-07T11:27:16.590551Z",
     "iopub.status.idle": "2023-02-07T11:27:16.609557Z",
     "shell.execute_reply": "2023-02-07T11:27:16.608393Z"
    },
    "id": "-V-ym6wp-ste",
    "papermill": {
     "duration": 0.042555,
     "end_time": "2023-02-07T11:27:16.611875",
     "exception": false,
     "start_time": "2023-02-07T11:27:16.569320",
     "status": "completed"
    },
    "tags": []
   },
   "outputs": [
    {
     "data": {
      "text/html": [
       "<div>\n",
       "<style scoped>\n",
       "    .dataframe tbody tr th:only-of-type {\n",
       "        vertical-align: middle;\n",
       "    }\n",
       "\n",
       "    .dataframe tbody tr th {\n",
       "        vertical-align: top;\n",
       "    }\n",
       "\n",
       "    .dataframe thead th {\n",
       "        text-align: right;\n",
       "    }\n",
       "</style>\n",
       "<table border=\"1\" class=\"dataframe\">\n",
       "  <thead>\n",
       "    <tr style=\"text-align: right;\">\n",
       "      <th></th>\n",
       "      <th>Pclass</th>\n",
       "      <th>Sex</th>\n",
       "      <th>Age</th>\n",
       "      <th>SibSp</th>\n",
       "      <th>Parch</th>\n",
       "      <th>Fare</th>\n",
       "      <th>Embarked_Q</th>\n",
       "      <th>Embarked_S</th>\n",
       "    </tr>\n",
       "  </thead>\n",
       "  <tbody>\n",
       "    <tr>\n",
       "      <th>0</th>\n",
       "      <td>3</td>\n",
       "      <td>0</td>\n",
       "      <td>34.5</td>\n",
       "      <td>0</td>\n",
       "      <td>0</td>\n",
       "      <td>7.8292</td>\n",
       "      <td>1</td>\n",
       "      <td>0</td>\n",
       "    </tr>\n",
       "    <tr>\n",
       "      <th>1</th>\n",
       "      <td>3</td>\n",
       "      <td>1</td>\n",
       "      <td>47.0</td>\n",
       "      <td>1</td>\n",
       "      <td>0</td>\n",
       "      <td>7.0000</td>\n",
       "      <td>0</td>\n",
       "      <td>1</td>\n",
       "    </tr>\n",
       "    <tr>\n",
       "      <th>2</th>\n",
       "      <td>2</td>\n",
       "      <td>0</td>\n",
       "      <td>62.0</td>\n",
       "      <td>0</td>\n",
       "      <td>0</td>\n",
       "      <td>9.6875</td>\n",
       "      <td>1</td>\n",
       "      <td>0</td>\n",
       "    </tr>\n",
       "    <tr>\n",
       "      <th>3</th>\n",
       "      <td>3</td>\n",
       "      <td>0</td>\n",
       "      <td>27.0</td>\n",
       "      <td>0</td>\n",
       "      <td>0</td>\n",
       "      <td>8.6625</td>\n",
       "      <td>0</td>\n",
       "      <td>1</td>\n",
       "    </tr>\n",
       "    <tr>\n",
       "      <th>4</th>\n",
       "      <td>3</td>\n",
       "      <td>1</td>\n",
       "      <td>22.0</td>\n",
       "      <td>1</td>\n",
       "      <td>1</td>\n",
       "      <td>12.2875</td>\n",
       "      <td>0</td>\n",
       "      <td>1</td>\n",
       "    </tr>\n",
       "    <tr>\n",
       "      <th>...</th>\n",
       "      <td>...</td>\n",
       "      <td>...</td>\n",
       "      <td>...</td>\n",
       "      <td>...</td>\n",
       "      <td>...</td>\n",
       "      <td>...</td>\n",
       "      <td>...</td>\n",
       "      <td>...</td>\n",
       "    </tr>\n",
       "    <tr>\n",
       "      <th>413</th>\n",
       "      <td>3</td>\n",
       "      <td>0</td>\n",
       "      <td>30.0</td>\n",
       "      <td>0</td>\n",
       "      <td>0</td>\n",
       "      <td>8.0500</td>\n",
       "      <td>0</td>\n",
       "      <td>1</td>\n",
       "    </tr>\n",
       "    <tr>\n",
       "      <th>414</th>\n",
       "      <td>1</td>\n",
       "      <td>1</td>\n",
       "      <td>39.0</td>\n",
       "      <td>0</td>\n",
       "      <td>0</td>\n",
       "      <td>108.9000</td>\n",
       "      <td>0</td>\n",
       "      <td>0</td>\n",
       "    </tr>\n",
       "    <tr>\n",
       "      <th>415</th>\n",
       "      <td>3</td>\n",
       "      <td>0</td>\n",
       "      <td>38.5</td>\n",
       "      <td>0</td>\n",
       "      <td>0</td>\n",
       "      <td>7.2500</td>\n",
       "      <td>0</td>\n",
       "      <td>1</td>\n",
       "    </tr>\n",
       "    <tr>\n",
       "      <th>416</th>\n",
       "      <td>3</td>\n",
       "      <td>0</td>\n",
       "      <td>30.0</td>\n",
       "      <td>0</td>\n",
       "      <td>0</td>\n",
       "      <td>8.0500</td>\n",
       "      <td>0</td>\n",
       "      <td>1</td>\n",
       "    </tr>\n",
       "    <tr>\n",
       "      <th>417</th>\n",
       "      <td>3</td>\n",
       "      <td>0</td>\n",
       "      <td>30.0</td>\n",
       "      <td>1</td>\n",
       "      <td>1</td>\n",
       "      <td>22.3583</td>\n",
       "      <td>0</td>\n",
       "      <td>0</td>\n",
       "    </tr>\n",
       "  </tbody>\n",
       "</table>\n",
       "<p>418 rows × 8 columns</p>\n",
       "</div>"
      ],
      "text/plain": [
       "     Pclass  Sex   Age  SibSp  Parch      Fare  Embarked_Q  Embarked_S\n",
       "0         3    0  34.5      0      0    7.8292           1           0\n",
       "1         3    1  47.0      1      0    7.0000           0           1\n",
       "2         2    0  62.0      0      0    9.6875           1           0\n",
       "3         3    0  27.0      0      0    8.6625           0           1\n",
       "4         3    1  22.0      1      1   12.2875           0           1\n",
       "..      ...  ...   ...    ...    ...       ...         ...         ...\n",
       "413       3    0  30.0      0      0    8.0500           0           1\n",
       "414       1    1  39.0      0      0  108.9000           0           0\n",
       "415       3    0  38.5      0      0    7.2500           0           1\n",
       "416       3    0  30.0      0      0    8.0500           0           1\n",
       "417       3    0  30.0      1      1   22.3583           0           0\n",
       "\n",
       "[418 rows x 8 columns]"
      ]
     },
     "execution_count": 32,
     "metadata": {},
     "output_type": "execute_result"
    }
   ],
   "source": [
    "test_updated"
   ]
  },
  {
   "cell_type": "code",
   "execution_count": 33,
   "id": "62c890e4",
   "metadata": {
    "execution": {
     "iopub.execute_input": "2023-02-07T11:27:16.653671Z",
     "iopub.status.busy": "2023-02-07T11:27:16.653248Z",
     "iopub.status.idle": "2023-02-07T11:27:16.665890Z",
     "shell.execute_reply": "2023-02-07T11:27:16.664370Z"
    },
    "papermill": {
     "duration": 0.037764,
     "end_time": "2023-02-07T11:27:16.669671",
     "exception": false,
     "start_time": "2023-02-07T11:27:16.631907",
     "status": "completed"
    },
    "tags": []
   },
   "outputs": [
    {
     "name": "stdout",
     "output_type": "stream",
     "text": [
      "<class 'pandas.core.frame.DataFrame'>\n",
      "RangeIndex: 418 entries, 0 to 417\n",
      "Data columns (total 8 columns):\n",
      " #   Column      Non-Null Count  Dtype  \n",
      "---  ------      --------------  -----  \n",
      " 0   Pclass      418 non-null    int64  \n",
      " 1   Sex         418 non-null    int64  \n",
      " 2   Age         418 non-null    float64\n",
      " 3   SibSp       418 non-null    int64  \n",
      " 4   Parch       418 non-null    int64  \n",
      " 5   Fare        418 non-null    float64\n",
      " 6   Embarked_Q  418 non-null    uint8  \n",
      " 7   Embarked_S  418 non-null    uint8  \n",
      "dtypes: float64(2), int64(4), uint8(2)\n",
      "memory usage: 20.5 KB\n"
     ]
    }
   ],
   "source": [
    "test_updated.info()"
   ]
  },
  {
   "cell_type": "markdown",
   "id": "e9cc04b4",
   "metadata": {
    "id": "FL0rDOwYAO12",
    "papermill": {
     "duration": 0.020267,
     "end_time": "2023-02-07T11:27:16.711663",
     "exception": false,
     "start_time": "2023-02-07T11:27:16.691396",
     "status": "completed"
    },
    "tags": []
   },
   "source": [
    "### **Adding Some New Features**\n",
    "We can add some features which can be useful\n",
    "1. Family Size = SibSp + Parch + 1\n",
    "2. Alone or not = Having family size == 1 means Alone."
   ]
  },
  {
   "cell_type": "code",
   "execution_count": 34,
   "id": "af771e86",
   "metadata": {
    "execution": {
     "iopub.execute_input": "2023-02-07T11:27:16.756009Z",
     "iopub.status.busy": "2023-02-07T11:27:16.755618Z",
     "iopub.status.idle": "2023-02-07T11:27:16.763160Z",
     "shell.execute_reply": "2023-02-07T11:27:16.761832Z"
    },
    "id": "eOOkmx-IASeu",
    "papermill": {
     "duration": 0.032168,
     "end_time": "2023-02-07T11:27:16.765637",
     "exception": false,
     "start_time": "2023-02-07T11:27:16.733469",
     "status": "completed"
    },
    "tags": []
   },
   "outputs": [],
   "source": [
    "train_updated['Family_size'] = train_updated['SibSp'] + train_updated['Parch'] + 1\n",
    "test_updated['Family_size'] = test_updated['SibSp'] + test_updated['Parch'] + 1"
   ]
  },
  {
   "cell_type": "markdown",
   "id": "cd483b67",
   "metadata": {
    "papermill": {
     "duration": 0.020743,
     "end_time": "2023-02-07T11:27:16.807178",
     "exception": false,
     "start_time": "2023-02-07T11:27:16.786435",
     "status": "completed"
    },
    "tags": []
   },
   "source": []
  },
  {
   "cell_type": "code",
   "execution_count": 35,
   "id": "78b6d53c",
   "metadata": {
    "execution": {
     "iopub.execute_input": "2023-02-07T11:27:16.848876Z",
     "iopub.status.busy": "2023-02-07T11:27:16.848469Z",
     "iopub.status.idle": "2023-02-07T11:27:16.863743Z",
     "shell.execute_reply": "2023-02-07T11:27:16.861522Z"
    },
    "id": "yHWeery0AqiW",
    "outputId": "3c4d5f8a-1512-4a8b-f9d8-536b468486f0",
    "papermill": {
     "duration": 0.040962,
     "end_time": "2023-02-07T11:27:16.867999",
     "exception": false,
     "start_time": "2023-02-07T11:27:16.827037",
     "status": "completed"
    },
    "tags": []
   },
   "outputs": [
    {
     "name": "stderr",
     "output_type": "stream",
     "text": [
      "/opt/conda/lib/python3.7/site-packages/pandas/core/indexing.py:1732: SettingWithCopyWarning: \n",
      "A value is trying to be set on a copy of a slice from a DataFrame\n",
      "\n",
      "See the caveats in the documentation: https://pandas.pydata.org/pandas-docs/stable/user_guide/indexing.html#returning-a-view-versus-a-copy\n",
      "  self._setitem_single_block(indexer, value, name)\n"
     ]
    }
   ],
   "source": [
    "train_updated['Alone'] = 1\n",
    "train_updated['Alone'].loc[train_updated['Family_size'] > 1] = 0\n",
    "\n",
    "test_updated['Alone'] = 1\n",
    "test_updated['Alone'].loc[test_updated['Family_size'] > 1] = 0"
   ]
  },
  {
   "cell_type": "code",
   "execution_count": 36,
   "id": "21852781",
   "metadata": {
    "execution": {
     "iopub.execute_input": "2023-02-07T11:27:16.910786Z",
     "iopub.status.busy": "2023-02-07T11:27:16.910331Z",
     "iopub.status.idle": "2023-02-07T11:27:16.931830Z",
     "shell.execute_reply": "2023-02-07T11:27:16.930508Z"
    },
    "papermill": {
     "duration": 0.04624,
     "end_time": "2023-02-07T11:27:16.934331",
     "exception": false,
     "start_time": "2023-02-07T11:27:16.888091",
     "status": "completed"
    },
    "tags": []
   },
   "outputs": [
    {
     "data": {
      "text/html": [
       "<div>\n",
       "<style scoped>\n",
       "    .dataframe tbody tr th:only-of-type {\n",
       "        vertical-align: middle;\n",
       "    }\n",
       "\n",
       "    .dataframe tbody tr th {\n",
       "        vertical-align: top;\n",
       "    }\n",
       "\n",
       "    .dataframe thead th {\n",
       "        text-align: right;\n",
       "    }\n",
       "</style>\n",
       "<table border=\"1\" class=\"dataframe\">\n",
       "  <thead>\n",
       "    <tr style=\"text-align: right;\">\n",
       "      <th></th>\n",
       "      <th>Survived</th>\n",
       "      <th>Pclass</th>\n",
       "      <th>Sex</th>\n",
       "      <th>Age</th>\n",
       "      <th>SibSp</th>\n",
       "      <th>Parch</th>\n",
       "      <th>Fare</th>\n",
       "      <th>Embarked_Q</th>\n",
       "      <th>Embarked_S</th>\n",
       "      <th>Family_size</th>\n",
       "      <th>Alone</th>\n",
       "    </tr>\n",
       "  </thead>\n",
       "  <tbody>\n",
       "    <tr>\n",
       "      <th>0</th>\n",
       "      <td>0</td>\n",
       "      <td>3</td>\n",
       "      <td>0</td>\n",
       "      <td>22.0</td>\n",
       "      <td>1</td>\n",
       "      <td>0</td>\n",
       "      <td>7.2500</td>\n",
       "      <td>0</td>\n",
       "      <td>1</td>\n",
       "      <td>2</td>\n",
       "      <td>0</td>\n",
       "    </tr>\n",
       "    <tr>\n",
       "      <th>1</th>\n",
       "      <td>1</td>\n",
       "      <td>1</td>\n",
       "      <td>1</td>\n",
       "      <td>38.0</td>\n",
       "      <td>1</td>\n",
       "      <td>0</td>\n",
       "      <td>71.2833</td>\n",
       "      <td>0</td>\n",
       "      <td>0</td>\n",
       "      <td>2</td>\n",
       "      <td>0</td>\n",
       "    </tr>\n",
       "    <tr>\n",
       "      <th>2</th>\n",
       "      <td>1</td>\n",
       "      <td>3</td>\n",
       "      <td>1</td>\n",
       "      <td>26.0</td>\n",
       "      <td>0</td>\n",
       "      <td>0</td>\n",
       "      <td>7.9250</td>\n",
       "      <td>0</td>\n",
       "      <td>1</td>\n",
       "      <td>1</td>\n",
       "      <td>1</td>\n",
       "    </tr>\n",
       "    <tr>\n",
       "      <th>3</th>\n",
       "      <td>1</td>\n",
       "      <td>1</td>\n",
       "      <td>1</td>\n",
       "      <td>35.0</td>\n",
       "      <td>1</td>\n",
       "      <td>0</td>\n",
       "      <td>53.1000</td>\n",
       "      <td>0</td>\n",
       "      <td>1</td>\n",
       "      <td>2</td>\n",
       "      <td>0</td>\n",
       "    </tr>\n",
       "    <tr>\n",
       "      <th>4</th>\n",
       "      <td>0</td>\n",
       "      <td>3</td>\n",
       "      <td>0</td>\n",
       "      <td>35.0</td>\n",
       "      <td>0</td>\n",
       "      <td>0</td>\n",
       "      <td>8.0500</td>\n",
       "      <td>0</td>\n",
       "      <td>1</td>\n",
       "      <td>1</td>\n",
       "      <td>1</td>\n",
       "    </tr>\n",
       "    <tr>\n",
       "      <th>...</th>\n",
       "      <td>...</td>\n",
       "      <td>...</td>\n",
       "      <td>...</td>\n",
       "      <td>...</td>\n",
       "      <td>...</td>\n",
       "      <td>...</td>\n",
       "      <td>...</td>\n",
       "      <td>...</td>\n",
       "      <td>...</td>\n",
       "      <td>...</td>\n",
       "      <td>...</td>\n",
       "    </tr>\n",
       "    <tr>\n",
       "      <th>886</th>\n",
       "      <td>0</td>\n",
       "      <td>2</td>\n",
       "      <td>0</td>\n",
       "      <td>27.0</td>\n",
       "      <td>0</td>\n",
       "      <td>0</td>\n",
       "      <td>13.0000</td>\n",
       "      <td>0</td>\n",
       "      <td>1</td>\n",
       "      <td>1</td>\n",
       "      <td>1</td>\n",
       "    </tr>\n",
       "    <tr>\n",
       "      <th>887</th>\n",
       "      <td>1</td>\n",
       "      <td>1</td>\n",
       "      <td>1</td>\n",
       "      <td>19.0</td>\n",
       "      <td>0</td>\n",
       "      <td>0</td>\n",
       "      <td>30.0000</td>\n",
       "      <td>0</td>\n",
       "      <td>1</td>\n",
       "      <td>1</td>\n",
       "      <td>1</td>\n",
       "    </tr>\n",
       "    <tr>\n",
       "      <th>888</th>\n",
       "      <td>0</td>\n",
       "      <td>3</td>\n",
       "      <td>1</td>\n",
       "      <td>29.0</td>\n",
       "      <td>1</td>\n",
       "      <td>2</td>\n",
       "      <td>23.4500</td>\n",
       "      <td>0</td>\n",
       "      <td>1</td>\n",
       "      <td>4</td>\n",
       "      <td>0</td>\n",
       "    </tr>\n",
       "    <tr>\n",
       "      <th>889</th>\n",
       "      <td>1</td>\n",
       "      <td>1</td>\n",
       "      <td>0</td>\n",
       "      <td>26.0</td>\n",
       "      <td>0</td>\n",
       "      <td>0</td>\n",
       "      <td>30.0000</td>\n",
       "      <td>0</td>\n",
       "      <td>0</td>\n",
       "      <td>1</td>\n",
       "      <td>1</td>\n",
       "    </tr>\n",
       "    <tr>\n",
       "      <th>890</th>\n",
       "      <td>0</td>\n",
       "      <td>3</td>\n",
       "      <td>0</td>\n",
       "      <td>32.0</td>\n",
       "      <td>0</td>\n",
       "      <td>0</td>\n",
       "      <td>7.7500</td>\n",
       "      <td>1</td>\n",
       "      <td>0</td>\n",
       "      <td>1</td>\n",
       "      <td>1</td>\n",
       "    </tr>\n",
       "  </tbody>\n",
       "</table>\n",
       "<p>891 rows × 11 columns</p>\n",
       "</div>"
      ],
      "text/plain": [
       "     Survived  Pclass  Sex   Age  SibSp  Parch     Fare  Embarked_Q  \\\n",
       "0           0       3    0  22.0      1      0   7.2500           0   \n",
       "1           1       1    1  38.0      1      0  71.2833           0   \n",
       "2           1       3    1  26.0      0      0   7.9250           0   \n",
       "3           1       1    1  35.0      1      0  53.1000           0   \n",
       "4           0       3    0  35.0      0      0   8.0500           0   \n",
       "..        ...     ...  ...   ...    ...    ...      ...         ...   \n",
       "886         0       2    0  27.0      0      0  13.0000           0   \n",
       "887         1       1    1  19.0      0      0  30.0000           0   \n",
       "888         0       3    1  29.0      1      2  23.4500           0   \n",
       "889         1       1    0  26.0      0      0  30.0000           0   \n",
       "890         0       3    0  32.0      0      0   7.7500           1   \n",
       "\n",
       "     Embarked_S  Family_size  Alone  \n",
       "0             1            2      0  \n",
       "1             0            2      0  \n",
       "2             1            1      1  \n",
       "3             1            2      0  \n",
       "4             1            1      1  \n",
       "..          ...          ...    ...  \n",
       "886           1            1      1  \n",
       "887           1            1      1  \n",
       "888           1            4      0  \n",
       "889           0            1      1  \n",
       "890           0            1      1  \n",
       "\n",
       "[891 rows x 11 columns]"
      ]
     },
     "execution_count": 36,
     "metadata": {},
     "output_type": "execute_result"
    }
   ],
   "source": [
    "train_updated"
   ]
  },
  {
   "cell_type": "markdown",
   "id": "cc730929",
   "metadata": {
    "id": "DVve8FrU73Ox",
    "papermill": {
     "duration": 0.020294,
     "end_time": "2023-02-07T11:27:16.975188",
     "exception": false,
     "start_time": "2023-02-07T11:27:16.954894",
     "status": "completed"
    },
    "tags": []
   },
   "source": [
    "### **Normalize the columns**"
   ]
  },
  {
   "cell_type": "code",
   "execution_count": 37,
   "id": "5a3d6066",
   "metadata": {
    "execution": {
     "iopub.execute_input": "2023-02-07T11:27:17.017943Z",
     "iopub.status.busy": "2023-02-07T11:27:17.017546Z",
     "iopub.status.idle": "2023-02-07T11:27:17.041991Z",
     "shell.execute_reply": "2023-02-07T11:27:17.041051Z"
    },
    "papermill": {
     "duration": 0.049222,
     "end_time": "2023-02-07T11:27:17.044244",
     "exception": false,
     "start_time": "2023-02-07T11:27:16.995022",
     "status": "completed"
    },
    "tags": []
   },
   "outputs": [
    {
     "data": {
      "text/html": [
       "<div>\n",
       "<style scoped>\n",
       "    .dataframe tbody tr th:only-of-type {\n",
       "        vertical-align: middle;\n",
       "    }\n",
       "\n",
       "    .dataframe tbody tr th {\n",
       "        vertical-align: top;\n",
       "    }\n",
       "\n",
       "    .dataframe thead th {\n",
       "        text-align: right;\n",
       "    }\n",
       "</style>\n",
       "<table border=\"1\" class=\"dataframe\">\n",
       "  <thead>\n",
       "    <tr style=\"text-align: right;\">\n",
       "      <th></th>\n",
       "      <th>Survived</th>\n",
       "      <th>Pclass</th>\n",
       "      <th>Sex</th>\n",
       "      <th>Age</th>\n",
       "      <th>SibSp</th>\n",
       "      <th>Parch</th>\n",
       "      <th>Fare</th>\n",
       "      <th>Embarked_Q</th>\n",
       "      <th>Embarked_S</th>\n",
       "      <th>Family_size</th>\n",
       "      <th>Alone</th>\n",
       "    </tr>\n",
       "  </thead>\n",
       "  <tbody>\n",
       "    <tr>\n",
       "      <th>0</th>\n",
       "      <td>0</td>\n",
       "      <td>3</td>\n",
       "      <td>0</td>\n",
       "      <td>0.271174</td>\n",
       "      <td>1</td>\n",
       "      <td>0</td>\n",
       "      <td>0.014151</td>\n",
       "      <td>0</td>\n",
       "      <td>1</td>\n",
       "      <td>2</td>\n",
       "      <td>0</td>\n",
       "    </tr>\n",
       "    <tr>\n",
       "      <th>1</th>\n",
       "      <td>1</td>\n",
       "      <td>1</td>\n",
       "      <td>1</td>\n",
       "      <td>0.472229</td>\n",
       "      <td>1</td>\n",
       "      <td>0</td>\n",
       "      <td>0.139136</td>\n",
       "      <td>0</td>\n",
       "      <td>0</td>\n",
       "      <td>2</td>\n",
       "      <td>0</td>\n",
       "    </tr>\n",
       "    <tr>\n",
       "      <th>2</th>\n",
       "      <td>1</td>\n",
       "      <td>3</td>\n",
       "      <td>1</td>\n",
       "      <td>0.321438</td>\n",
       "      <td>0</td>\n",
       "      <td>0</td>\n",
       "      <td>0.015469</td>\n",
       "      <td>0</td>\n",
       "      <td>1</td>\n",
       "      <td>1</td>\n",
       "      <td>1</td>\n",
       "    </tr>\n",
       "    <tr>\n",
       "      <th>3</th>\n",
       "      <td>1</td>\n",
       "      <td>1</td>\n",
       "      <td>1</td>\n",
       "      <td>0.434531</td>\n",
       "      <td>1</td>\n",
       "      <td>0</td>\n",
       "      <td>0.103644</td>\n",
       "      <td>0</td>\n",
       "      <td>1</td>\n",
       "      <td>2</td>\n",
       "      <td>0</td>\n",
       "    </tr>\n",
       "    <tr>\n",
       "      <th>4</th>\n",
       "      <td>0</td>\n",
       "      <td>3</td>\n",
       "      <td>0</td>\n",
       "      <td>0.434531</td>\n",
       "      <td>0</td>\n",
       "      <td>0</td>\n",
       "      <td>0.015713</td>\n",
       "      <td>0</td>\n",
       "      <td>1</td>\n",
       "      <td>1</td>\n",
       "      <td>1</td>\n",
       "    </tr>\n",
       "    <tr>\n",
       "      <th>...</th>\n",
       "      <td>...</td>\n",
       "      <td>...</td>\n",
       "      <td>...</td>\n",
       "      <td>...</td>\n",
       "      <td>...</td>\n",
       "      <td>...</td>\n",
       "      <td>...</td>\n",
       "      <td>...</td>\n",
       "      <td>...</td>\n",
       "      <td>...</td>\n",
       "      <td>...</td>\n",
       "    </tr>\n",
       "    <tr>\n",
       "      <th>886</th>\n",
       "      <td>0</td>\n",
       "      <td>2</td>\n",
       "      <td>0</td>\n",
       "      <td>0.334004</td>\n",
       "      <td>0</td>\n",
       "      <td>0</td>\n",
       "      <td>0.025374</td>\n",
       "      <td>0</td>\n",
       "      <td>1</td>\n",
       "      <td>1</td>\n",
       "      <td>1</td>\n",
       "    </tr>\n",
       "    <tr>\n",
       "      <th>887</th>\n",
       "      <td>1</td>\n",
       "      <td>1</td>\n",
       "      <td>1</td>\n",
       "      <td>0.233476</td>\n",
       "      <td>0</td>\n",
       "      <td>0</td>\n",
       "      <td>0.058556</td>\n",
       "      <td>0</td>\n",
       "      <td>1</td>\n",
       "      <td>1</td>\n",
       "      <td>1</td>\n",
       "    </tr>\n",
       "    <tr>\n",
       "      <th>888</th>\n",
       "      <td>0</td>\n",
       "      <td>3</td>\n",
       "      <td>1</td>\n",
       "      <td>0.359135</td>\n",
       "      <td>1</td>\n",
       "      <td>2</td>\n",
       "      <td>0.045771</td>\n",
       "      <td>0</td>\n",
       "      <td>1</td>\n",
       "      <td>4</td>\n",
       "      <td>0</td>\n",
       "    </tr>\n",
       "    <tr>\n",
       "      <th>889</th>\n",
       "      <td>1</td>\n",
       "      <td>1</td>\n",
       "      <td>0</td>\n",
       "      <td>0.321438</td>\n",
       "      <td>0</td>\n",
       "      <td>0</td>\n",
       "      <td>0.058556</td>\n",
       "      <td>0</td>\n",
       "      <td>0</td>\n",
       "      <td>1</td>\n",
       "      <td>1</td>\n",
       "    </tr>\n",
       "    <tr>\n",
       "      <th>890</th>\n",
       "      <td>0</td>\n",
       "      <td>3</td>\n",
       "      <td>0</td>\n",
       "      <td>0.396833</td>\n",
       "      <td>0</td>\n",
       "      <td>0</td>\n",
       "      <td>0.015127</td>\n",
       "      <td>1</td>\n",
       "      <td>0</td>\n",
       "      <td>1</td>\n",
       "      <td>1</td>\n",
       "    </tr>\n",
       "  </tbody>\n",
       "</table>\n",
       "<p>891 rows × 11 columns</p>\n",
       "</div>"
      ],
      "text/plain": [
       "     Survived  Pclass  Sex       Age  SibSp  Parch      Fare  Embarked_Q  \\\n",
       "0           0       3    0  0.271174      1      0  0.014151           0   \n",
       "1           1       1    1  0.472229      1      0  0.139136           0   \n",
       "2           1       3    1  0.321438      0      0  0.015469           0   \n",
       "3           1       1    1  0.434531      1      0  0.103644           0   \n",
       "4           0       3    0  0.434531      0      0  0.015713           0   \n",
       "..        ...     ...  ...       ...    ...    ...       ...         ...   \n",
       "886         0       2    0  0.334004      0      0  0.025374           0   \n",
       "887         1       1    1  0.233476      0      0  0.058556           0   \n",
       "888         0       3    1  0.359135      1      2  0.045771           0   \n",
       "889         1       1    0  0.321438      0      0  0.058556           0   \n",
       "890         0       3    0  0.396833      0      0  0.015127           1   \n",
       "\n",
       "     Embarked_S  Family_size  Alone  \n",
       "0             1            2      0  \n",
       "1             0            2      0  \n",
       "2             1            1      1  \n",
       "3             1            2      0  \n",
       "4             1            1      1  \n",
       "..          ...          ...    ...  \n",
       "886           1            1      1  \n",
       "887           1            1      1  \n",
       "888           1            4      0  \n",
       "889           0            1      1  \n",
       "890           0            1      1  \n",
       "\n",
       "[891 rows x 11 columns]"
      ]
     },
     "execution_count": 37,
     "metadata": {},
     "output_type": "execute_result"
    }
   ],
   "source": [
    "#MinMaxScaler\n",
    "scaler = MinMaxScaler()\n",
    "cols_to_norm = ['Age','Fare']\n",
    "train_updated[cols_to_norm] = scaler.fit_transform(train_updated[cols_to_norm])\n",
    "train_updated"
   ]
  },
  {
   "cell_type": "code",
   "execution_count": 38,
   "id": "38f13c44",
   "metadata": {
    "execution": {
     "iopub.execute_input": "2023-02-07T11:27:17.087893Z",
     "iopub.status.busy": "2023-02-07T11:27:17.087441Z",
     "iopub.status.idle": "2023-02-07T11:27:17.113055Z",
     "shell.execute_reply": "2023-02-07T11:27:17.111858Z"
    },
    "papermill": {
     "duration": 0.050122,
     "end_time": "2023-02-07T11:27:17.115390",
     "exception": false,
     "start_time": "2023-02-07T11:27:17.065268",
     "status": "completed"
    },
    "tags": []
   },
   "outputs": [
    {
     "data": {
      "text/html": [
       "<div>\n",
       "<style scoped>\n",
       "    .dataframe tbody tr th:only-of-type {\n",
       "        vertical-align: middle;\n",
       "    }\n",
       "\n",
       "    .dataframe tbody tr th {\n",
       "        vertical-align: top;\n",
       "    }\n",
       "\n",
       "    .dataframe thead th {\n",
       "        text-align: right;\n",
       "    }\n",
       "</style>\n",
       "<table border=\"1\" class=\"dataframe\">\n",
       "  <thead>\n",
       "    <tr style=\"text-align: right;\">\n",
       "      <th></th>\n",
       "      <th>Pclass</th>\n",
       "      <th>Sex</th>\n",
       "      <th>Age</th>\n",
       "      <th>SibSp</th>\n",
       "      <th>Parch</th>\n",
       "      <th>Fare</th>\n",
       "      <th>Embarked_Q</th>\n",
       "      <th>Embarked_S</th>\n",
       "      <th>Family_size</th>\n",
       "      <th>Alone</th>\n",
       "    </tr>\n",
       "  </thead>\n",
       "  <tbody>\n",
       "    <tr>\n",
       "      <th>0</th>\n",
       "      <td>3</td>\n",
       "      <td>0</td>\n",
       "      <td>0.452723</td>\n",
       "      <td>0</td>\n",
       "      <td>0</td>\n",
       "      <td>0.015282</td>\n",
       "      <td>1</td>\n",
       "      <td>0</td>\n",
       "      <td>1</td>\n",
       "      <td>1</td>\n",
       "    </tr>\n",
       "    <tr>\n",
       "      <th>1</th>\n",
       "      <td>3</td>\n",
       "      <td>1</td>\n",
       "      <td>0.617566</td>\n",
       "      <td>1</td>\n",
       "      <td>0</td>\n",
       "      <td>0.013663</td>\n",
       "      <td>0</td>\n",
       "      <td>1</td>\n",
       "      <td>2</td>\n",
       "      <td>0</td>\n",
       "    </tr>\n",
       "    <tr>\n",
       "      <th>2</th>\n",
       "      <td>2</td>\n",
       "      <td>0</td>\n",
       "      <td>0.815377</td>\n",
       "      <td>0</td>\n",
       "      <td>0</td>\n",
       "      <td>0.018909</td>\n",
       "      <td>1</td>\n",
       "      <td>0</td>\n",
       "      <td>1</td>\n",
       "      <td>1</td>\n",
       "    </tr>\n",
       "    <tr>\n",
       "      <th>3</th>\n",
       "      <td>3</td>\n",
       "      <td>0</td>\n",
       "      <td>0.353818</td>\n",
       "      <td>0</td>\n",
       "      <td>0</td>\n",
       "      <td>0.016908</td>\n",
       "      <td>0</td>\n",
       "      <td>1</td>\n",
       "      <td>1</td>\n",
       "      <td>1</td>\n",
       "    </tr>\n",
       "    <tr>\n",
       "      <th>4</th>\n",
       "      <td>3</td>\n",
       "      <td>1</td>\n",
       "      <td>0.287881</td>\n",
       "      <td>1</td>\n",
       "      <td>1</td>\n",
       "      <td>0.023984</td>\n",
       "      <td>0</td>\n",
       "      <td>1</td>\n",
       "      <td>3</td>\n",
       "      <td>0</td>\n",
       "    </tr>\n",
       "    <tr>\n",
       "      <th>...</th>\n",
       "      <td>...</td>\n",
       "      <td>...</td>\n",
       "      <td>...</td>\n",
       "      <td>...</td>\n",
       "      <td>...</td>\n",
       "      <td>...</td>\n",
       "      <td>...</td>\n",
       "      <td>...</td>\n",
       "      <td>...</td>\n",
       "      <td>...</td>\n",
       "    </tr>\n",
       "    <tr>\n",
       "      <th>413</th>\n",
       "      <td>3</td>\n",
       "      <td>0</td>\n",
       "      <td>0.393380</td>\n",
       "      <td>0</td>\n",
       "      <td>0</td>\n",
       "      <td>0.015713</td>\n",
       "      <td>0</td>\n",
       "      <td>1</td>\n",
       "      <td>1</td>\n",
       "      <td>1</td>\n",
       "    </tr>\n",
       "    <tr>\n",
       "      <th>414</th>\n",
       "      <td>1</td>\n",
       "      <td>1</td>\n",
       "      <td>0.512066</td>\n",
       "      <td>0</td>\n",
       "      <td>0</td>\n",
       "      <td>0.212559</td>\n",
       "      <td>0</td>\n",
       "      <td>0</td>\n",
       "      <td>1</td>\n",
       "      <td>1</td>\n",
       "    </tr>\n",
       "    <tr>\n",
       "      <th>415</th>\n",
       "      <td>3</td>\n",
       "      <td>0</td>\n",
       "      <td>0.505473</td>\n",
       "      <td>0</td>\n",
       "      <td>0</td>\n",
       "      <td>0.014151</td>\n",
       "      <td>0</td>\n",
       "      <td>1</td>\n",
       "      <td>1</td>\n",
       "      <td>1</td>\n",
       "    </tr>\n",
       "    <tr>\n",
       "      <th>416</th>\n",
       "      <td>3</td>\n",
       "      <td>0</td>\n",
       "      <td>0.393380</td>\n",
       "      <td>0</td>\n",
       "      <td>0</td>\n",
       "      <td>0.015713</td>\n",
       "      <td>0</td>\n",
       "      <td>1</td>\n",
       "      <td>1</td>\n",
       "      <td>1</td>\n",
       "    </tr>\n",
       "    <tr>\n",
       "      <th>417</th>\n",
       "      <td>3</td>\n",
       "      <td>0</td>\n",
       "      <td>0.393380</td>\n",
       "      <td>1</td>\n",
       "      <td>1</td>\n",
       "      <td>0.043640</td>\n",
       "      <td>0</td>\n",
       "      <td>0</td>\n",
       "      <td>3</td>\n",
       "      <td>0</td>\n",
       "    </tr>\n",
       "  </tbody>\n",
       "</table>\n",
       "<p>418 rows × 10 columns</p>\n",
       "</div>"
      ],
      "text/plain": [
       "     Pclass  Sex       Age  SibSp  Parch      Fare  Embarked_Q  Embarked_S  \\\n",
       "0         3    0  0.452723      0      0  0.015282           1           0   \n",
       "1         3    1  0.617566      1      0  0.013663           0           1   \n",
       "2         2    0  0.815377      0      0  0.018909           1           0   \n",
       "3         3    0  0.353818      0      0  0.016908           0           1   \n",
       "4         3    1  0.287881      1      1  0.023984           0           1   \n",
       "..      ...  ...       ...    ...    ...       ...         ...         ...   \n",
       "413       3    0  0.393380      0      0  0.015713           0           1   \n",
       "414       1    1  0.512066      0      0  0.212559           0           0   \n",
       "415       3    0  0.505473      0      0  0.014151           0           1   \n",
       "416       3    0  0.393380      0      0  0.015713           0           1   \n",
       "417       3    0  0.393380      1      1  0.043640           0           0   \n",
       "\n",
       "     Family_size  Alone  \n",
       "0              1      1  \n",
       "1              2      0  \n",
       "2              1      1  \n",
       "3              1      1  \n",
       "4              3      0  \n",
       "..           ...    ...  \n",
       "413            1      1  \n",
       "414            1      1  \n",
       "415            1      1  \n",
       "416            1      1  \n",
       "417            3      0  \n",
       "\n",
       "[418 rows x 10 columns]"
      ]
     },
     "execution_count": 38,
     "metadata": {},
     "output_type": "execute_result"
    }
   ],
   "source": [
    "scaler = MinMaxScaler()\n",
    "cols_to_norm = ['Age','Fare']\n",
    "test_updated[cols_to_norm] = scaler.fit_transform(test_updated[cols_to_norm])\n",
    "test_updated"
   ]
  },
  {
   "cell_type": "markdown",
   "id": "03799961",
   "metadata": {
    "id": "Dsbbf8ux032X",
    "papermill": {
     "duration": 0.021362,
     "end_time": "2023-02-07T11:27:17.157616",
     "exception": false,
     "start_time": "2023-02-07T11:27:17.136254",
     "status": "completed"
    },
    "tags": []
   },
   "source": [
    "# **4. Train the Model**"
   ]
  },
  {
   "cell_type": "code",
   "execution_count": 39,
   "id": "9779e945",
   "metadata": {
    "execution": {
     "iopub.execute_input": "2023-02-07T11:27:17.200669Z",
     "iopub.status.busy": "2023-02-07T11:27:17.200265Z",
     "iopub.status.idle": "2023-02-07T11:27:17.208851Z",
     "shell.execute_reply": "2023-02-07T11:27:17.207747Z"
    },
    "id": "VixWw_zAu4u-",
    "papermill": {
     "duration": 0.033245,
     "end_time": "2023-02-07T11:27:17.211363",
     "exception": false,
     "start_time": "2023-02-07T11:27:17.178118",
     "status": "completed"
    },
    "tags": []
   },
   "outputs": [],
   "source": [
    "#splitting the data\n",
    "X = train_updated.drop('Survived', axis = 1)\n",
    "y = train_updated['Survived']\n",
    "\n",
    "X_train, X_valid, y_train, y_valid = train_test_split(X, y, test_size = 0.20, random_state = 0)"
   ]
  },
  {
   "cell_type": "code",
   "execution_count": 40,
   "id": "b611571c",
   "metadata": {
    "execution": {
     "iopub.execute_input": "2023-02-07T11:27:17.255122Z",
     "iopub.status.busy": "2023-02-07T11:27:17.254728Z",
     "iopub.status.idle": "2023-02-07T11:27:17.262633Z",
     "shell.execute_reply": "2023-02-07T11:27:17.261108Z"
    },
    "papermill": {
     "duration": 0.032833,
     "end_time": "2023-02-07T11:27:17.265328",
     "exception": false,
     "start_time": "2023-02-07T11:27:17.232495",
     "status": "completed"
    },
    "tags": []
   },
   "outputs": [
    {
     "name": "stdout",
     "output_type": "stream",
     "text": [
      "(712, 10)\n",
      "(179, 10)\n",
      "(712,)\n",
      "(179,)\n"
     ]
    }
   ],
   "source": [
    "print(X_train.shape)\n",
    "print(X_valid.shape)\n",
    "print(y_train.shape)\n",
    "print(y_valid.shape)"
   ]
  },
  {
   "cell_type": "code",
   "execution_count": 41,
   "id": "0525393f",
   "metadata": {
    "execution": {
     "iopub.execute_input": "2023-02-07T11:27:17.308437Z",
     "iopub.status.busy": "2023-02-07T11:27:17.307991Z",
     "iopub.status.idle": "2023-02-07T11:27:17.345056Z",
     "shell.execute_reply": "2023-02-07T11:27:17.343644Z"
    },
    "id": "k9fPdgdKvQka",
    "outputId": "81db555c-75a2-4ef8-d7bf-cb66a3664c34",
    "papermill": {
     "duration": 0.061597,
     "end_time": "2023-02-07T11:27:17.347916",
     "exception": false,
     "start_time": "2023-02-07T11:27:17.286319",
     "status": "completed"
    },
    "tags": []
   },
   "outputs": [
    {
     "data": {
      "text/plain": [
       "array([0, 0, 0, 1, 1, 0, 1, 1, 1, 1, 0, 1, 0, 1, 1, 1, 0, 0, 0, 0, 0, 1,\n",
       "       0, 0, 1, 1, 0, 1, 1, 0, 0, 1, 0, 0, 0, 0, 0, 0, 0, 0, 0, 0, 0, 0,\n",
       "       1, 0, 0, 1, 0, 0, 0, 1, 1, 0, 0, 0, 0, 0, 0, 0, 0, 1, 1, 0, 1, 0,\n",
       "       1, 0, 1, 1, 1, 0, 1, 0, 0, 1, 0, 0, 0, 0, 0, 0, 1, 0, 0, 1, 1, 0,\n",
       "       1, 1, 0, 0, 0, 1, 0, 0, 1, 0, 0, 1, 0, 0, 0, 0, 1, 1, 1, 0, 0, 1,\n",
       "       0, 1, 0, 1, 0, 1, 1, 1, 0, 1, 0, 0, 0, 0, 0, 0, 0, 0, 0, 0, 1, 0,\n",
       "       0, 1, 0, 0, 0, 1, 0, 0, 0, 1, 0, 1, 1, 1, 0, 1, 1, 0, 0, 1, 1, 0,\n",
       "       1, 0, 1, 0, 1, 1, 0, 0, 1, 0, 0, 0, 0, 0, 0, 0, 0, 1, 0, 0, 1, 0,\n",
       "       1, 0, 0])"
      ]
     },
     "execution_count": 41,
     "metadata": {},
     "output_type": "execute_result"
    }
   ],
   "source": [
    "#logistic regression\n",
    "log_reg = LogisticRegression()\n",
    "log_reg.fit(X_train, y_train)\n",
    "y_pred = log_reg.predict(X_valid)\n",
    "y_pred"
   ]
  },
  {
   "cell_type": "code",
   "execution_count": 42,
   "id": "71dbf9ca",
   "metadata": {
    "execution": {
     "iopub.execute_input": "2023-02-07T11:27:17.392822Z",
     "iopub.status.busy": "2023-02-07T11:27:17.392382Z",
     "iopub.status.idle": "2023-02-07T11:27:17.399970Z",
     "shell.execute_reply": "2023-02-07T11:27:17.399039Z"
    },
    "id": "ZRKOPqVRvVqO",
    "outputId": "50f95d8d-3a05-4742-e6d2-ee52fb712fe1",
    "papermill": {
     "duration": 0.03322,
     "end_time": "2023-02-07T11:27:17.402347",
     "exception": false,
     "start_time": "2023-02-07T11:27:17.369127",
     "status": "completed"
    },
    "tags": []
   },
   "outputs": [
    {
     "data": {
      "text/plain": [
       "0.8044692737430168"
      ]
     },
     "execution_count": 42,
     "metadata": {},
     "output_type": "execute_result"
    }
   ],
   "source": [
    "accuracy_score(y_pred, y_valid)"
   ]
  },
  {
   "cell_type": "code",
   "execution_count": 43,
   "id": "b91c1d64",
   "metadata": {
    "execution": {
     "iopub.execute_input": "2023-02-07T11:27:17.447646Z",
     "iopub.status.busy": "2023-02-07T11:27:17.447176Z",
     "iopub.status.idle": "2023-02-07T11:27:17.484880Z",
     "shell.execute_reply": "2023-02-07T11:27:17.483270Z"
    },
    "papermill": {
     "duration": 0.063858,
     "end_time": "2023-02-07T11:27:17.487786",
     "exception": false,
     "start_time": "2023-02-07T11:27:17.423928",
     "status": "completed"
    },
    "tags": []
   },
   "outputs": [
    {
     "data": {
      "text/plain": [
       "array([0, 0, 0, 1, 1, 0, 1, 1, 0, 1, 0, 1, 0, 1, 1, 1, 0, 0, 0, 0, 0, 1,\n",
       "       0, 0, 1, 1, 0, 1, 1, 0, 0, 1, 0, 0, 0, 0, 0, 0, 0, 0, 0, 0, 0, 0,\n",
       "       1, 0, 0, 1, 0, 0, 0, 0, 1, 0, 0, 0, 0, 0, 0, 0, 0, 0, 1, 0, 1, 0,\n",
       "       1, 0, 1, 1, 1, 0, 0, 0, 0, 0, 1, 0, 0, 0, 0, 0, 1, 0, 0, 1, 1, 1,\n",
       "       1, 0, 0, 0, 0, 1, 0, 0, 1, 0, 0, 0, 0, 0, 0, 0, 1, 1, 1, 0, 0, 1,\n",
       "       0, 1, 0, 1, 1, 1, 1, 1, 0, 1, 0, 0, 0, 0, 0, 0, 0, 0, 0, 0, 1, 0,\n",
       "       0, 1, 0, 0, 0, 1, 0, 0, 0, 1, 0, 1, 1, 1, 0, 1, 1, 0, 0, 1, 1, 0,\n",
       "       1, 0, 1, 0, 1, 1, 0, 0, 1, 0, 0, 0, 0, 0, 0, 0, 0, 1, 0, 0, 1, 0,\n",
       "       1, 0, 0])"
      ]
     },
     "execution_count": 43,
     "metadata": {},
     "output_type": "execute_result"
    }
   ],
   "source": [
    "# Support Vector Machines\n",
    "\n",
    "svc = SVC()\n",
    "svc.fit(X_train, y_train)\n",
    "y_pred_svc = svc.predict(X_valid)\n",
    "y_pred_svc"
   ]
  },
  {
   "cell_type": "code",
   "execution_count": 44,
   "id": "427fbf4b",
   "metadata": {
    "execution": {
     "iopub.execute_input": "2023-02-07T11:27:17.532753Z",
     "iopub.status.busy": "2023-02-07T11:27:17.532306Z",
     "iopub.status.idle": "2023-02-07T11:27:17.539250Z",
     "shell.execute_reply": "2023-02-07T11:27:17.538362Z"
    },
    "papermill": {
     "duration": 0.032944,
     "end_time": "2023-02-07T11:27:17.542000",
     "exception": false,
     "start_time": "2023-02-07T11:27:17.509056",
     "status": "completed"
    },
    "tags": []
   },
   "outputs": [
    {
     "data": {
      "text/plain": [
       "0.8044692737430168"
      ]
     },
     "execution_count": 44,
     "metadata": {},
     "output_type": "execute_result"
    }
   ],
   "source": [
    "accuracy_score(y_pred_svc, y_valid)"
   ]
  },
  {
   "cell_type": "code",
   "execution_count": 45,
   "id": "c42bdcd2",
   "metadata": {
    "execution": {
     "iopub.execute_input": "2023-02-07T11:27:17.589037Z",
     "iopub.status.busy": "2023-02-07T11:27:17.588585Z",
     "iopub.status.idle": "2023-02-07T11:27:17.601244Z",
     "shell.execute_reply": "2023-02-07T11:27:17.599894Z"
    },
    "papermill": {
     "duration": 0.040077,
     "end_time": "2023-02-07T11:27:17.604362",
     "exception": false,
     "start_time": "2023-02-07T11:27:17.564285",
     "status": "completed"
    },
    "tags": []
   },
   "outputs": [],
   "source": [
    "# Create Decision Tree classifer object\n",
    "clf = DecisionTreeClassifier()\n",
    "\n",
    "# Train Decision Tree Classifer\n",
    "clf = clf.fit(X_train,y_train)\n",
    "\n",
    "#Predict the response for test dataset\n",
    "y_pred_dt = clf.predict(X_valid)"
   ]
  },
  {
   "cell_type": "code",
   "execution_count": 46,
   "id": "67a6cb52",
   "metadata": {
    "execution": {
     "iopub.execute_input": "2023-02-07T11:27:17.650378Z",
     "iopub.status.busy": "2023-02-07T11:27:17.649958Z",
     "iopub.status.idle": "2023-02-07T11:27:17.656635Z",
     "shell.execute_reply": "2023-02-07T11:27:17.655318Z"
    },
    "papermill": {
     "duration": 0.032608,
     "end_time": "2023-02-07T11:27:17.659221",
     "exception": false,
     "start_time": "2023-02-07T11:27:17.626613",
     "status": "completed"
    },
    "tags": []
   },
   "outputs": [
    {
     "name": "stdout",
     "output_type": "stream",
     "text": [
      "Accuracy: 0.8044692737430168\n"
     ]
    }
   ],
   "source": [
    "# Model Accuracy, how often is the classifier correct?\n",
    "print(\"Accuracy:\",accuracy_score(y_valid, y_pred_dt))"
   ]
  },
  {
   "cell_type": "code",
   "execution_count": 47,
   "id": "21be4aa4",
   "metadata": {
    "execution": {
     "iopub.execute_input": "2023-02-07T11:27:17.703818Z",
     "iopub.status.busy": "2023-02-07T11:27:17.703361Z",
     "iopub.status.idle": "2023-02-07T11:27:17.745963Z",
     "shell.execute_reply": "2023-02-07T11:27:17.744468Z"
    },
    "papermill": {
     "duration": 0.068139,
     "end_time": "2023-02-07T11:27:17.748923",
     "exception": false,
     "start_time": "2023-02-07T11:27:17.680784",
     "status": "completed"
    },
    "tags": []
   },
   "outputs": [],
   "source": [
    "#RandomForestClassifier  \n",
    "rf_classifier= RandomForestClassifier(n_estimators= 14, criterion=\"entropy\")  \n",
    "rf_classifier.fit(X_train, y_train) \n",
    "y_pred_rf = rf_classifier.predict(X_valid)"
   ]
  },
  {
   "cell_type": "code",
   "execution_count": 48,
   "id": "63084a4e",
   "metadata": {
    "execution": {
     "iopub.execute_input": "2023-02-07T11:27:17.793975Z",
     "iopub.status.busy": "2023-02-07T11:27:17.793545Z",
     "iopub.status.idle": "2023-02-07T11:27:17.799678Z",
     "shell.execute_reply": "2023-02-07T11:27:17.798242Z"
    },
    "papermill": {
     "duration": 0.032748,
     "end_time": "2023-02-07T11:27:17.803265",
     "exception": false,
     "start_time": "2023-02-07T11:27:17.770517",
     "status": "completed"
    },
    "tags": []
   },
   "outputs": [
    {
     "name": "stdout",
     "output_type": "stream",
     "text": [
      "Accuracy: 0.8491620111731844\n"
     ]
    }
   ],
   "source": [
    "print(\"Accuracy:\",accuracy_score(y_valid, y_pred_rf))"
   ]
  },
  {
   "cell_type": "code",
   "execution_count": 49,
   "id": "16c1fab5",
   "metadata": {
    "execution": {
     "iopub.execute_input": "2023-02-07T11:27:17.849005Z",
     "iopub.status.busy": "2023-02-07T11:27:17.848220Z",
     "iopub.status.idle": "2023-02-07T11:27:17.863430Z",
     "shell.execute_reply": "2023-02-07T11:27:17.862164Z"
    },
    "papermill": {
     "duration": 0.040968,
     "end_time": "2023-02-07T11:27:17.866031",
     "exception": false,
     "start_time": "2023-02-07T11:27:17.825063",
     "status": "completed"
    },
    "tags": []
   },
   "outputs": [
    {
     "data": {
      "text/plain": [
       "array([0, 0, 0, 0, 0, 0, 0, 0, 1, 0, 0, 1, 1, 0, 1, 1, 0, 1, 0, 0, 1, 0,\n",
       "       1, 0, 1, 0, 1, 0, 0, 0, 0, 0, 0, 0, 1, 0, 0, 0, 0, 1, 0, 1, 1, 1,\n",
       "       1, 0, 0, 0, 1, 0, 1, 0, 1, 1, 0, 0, 0, 0, 0, 1, 0, 0, 0, 1, 0, 1,\n",
       "       1, 0, 0, 1, 1, 0, 0, 0, 1, 0, 0, 1, 1, 1, 1, 1, 1, 0, 0, 0, 1, 0,\n",
       "       0, 1, 0, 0, 1, 0, 1, 0, 1, 1, 1, 0, 1, 0, 0, 0, 0, 0, 0, 0, 0, 0,\n",
       "       0, 0, 1, 0, 1, 0, 0, 1, 0, 1, 1, 0, 1, 0, 0, 0, 0, 1, 1, 0, 0, 0,\n",
       "       0, 0, 0, 0, 0, 0, 0, 0, 0, 1, 0, 0, 1, 0, 0, 0, 1, 0, 1, 0, 0, 0,\n",
       "       0, 0, 1, 0, 1, 0, 0, 1, 1, 0, 1, 1, 0, 0, 1, 0, 0, 0, 0, 0, 0, 1,\n",
       "       1, 1, 1, 1, 1, 0, 1, 0, 1, 0, 1, 0, 0, 1, 0, 0, 1, 0, 1, 0, 1, 0,\n",
       "       0, 0, 0, 1, 0, 1, 0, 0, 0, 0, 1, 0, 0, 0, 0, 0, 0, 0, 0, 0, 1, 0,\n",
       "       1, 0, 1, 0, 1, 0, 0, 0, 0, 0, 0, 1, 0, 0, 1, 0, 1, 1, 1, 1, 0, 1,\n",
       "       0, 0, 0, 0, 1, 0, 1, 0, 1, 0, 1, 0, 0, 0, 0, 0, 1, 0, 0, 0, 1, 1,\n",
       "       1, 0, 0, 0, 0, 0, 0, 0, 1, 1, 0, 1, 0, 0, 0, 0, 0, 1, 0, 0, 1, 0,\n",
       "       0, 1, 0, 0, 0, 0, 0, 0, 0, 0, 1, 0, 0, 1, 0, 0, 0, 0, 0, 1, 0, 0,\n",
       "       0, 0, 0, 1, 0, 0, 1, 1, 0, 0, 0, 0, 0, 0, 0, 1, 1, 0, 1, 0, 0, 0,\n",
       "       1, 1, 0, 0, 0, 0, 0, 0, 0, 0, 0, 0, 0, 1, 0, 1, 0, 0, 0, 1, 1, 0,\n",
       "       0, 0, 1, 1, 1, 0, 0, 1, 0, 1, 1, 0, 1, 0, 0, 1, 1, 1, 0, 1, 0, 0,\n",
       "       1, 1, 0, 0, 0, 0, 0, 0, 1, 0, 1, 1, 0, 0, 0, 0, 0, 1, 1, 0, 0, 1,\n",
       "       0, 1, 0, 0, 1, 0, 1, 0, 0, 0, 0, 0, 0, 1, 0, 1, 0, 0, 1, 0, 0, 0])"
      ]
     },
     "execution_count": 49,
     "metadata": {},
     "output_type": "execute_result"
    }
   ],
   "source": [
    "test_pred=rf_classifier.predict(test_updated)\n",
    "test_pred"
   ]
  },
  {
   "cell_type": "markdown",
   "id": "9d872cb4",
   "metadata": {
    "id": "qeKCaftb7Rt5",
    "papermill": {
     "duration": 0.022167,
     "end_time": "2023-02-07T11:27:17.909218",
     "exception": false,
     "start_time": "2023-02-07T11:27:17.887051",
     "status": "completed"
    },
    "tags": []
   },
   "source": [
    "## Creating the output file"
   ]
  },
  {
   "cell_type": "code",
   "execution_count": 50,
   "id": "a005f98a",
   "metadata": {
    "execution": {
     "iopub.execute_input": "2023-02-07T11:27:17.954514Z",
     "iopub.status.busy": "2023-02-07T11:27:17.953329Z",
     "iopub.status.idle": "2023-02-07T11:27:17.977539Z",
     "shell.execute_reply": "2023-02-07T11:27:17.976119Z"
    },
    "id": "s9YEdMbE9k34",
    "outputId": "c9c4b747-81ce-43dc-ca05-666a628c0d10",
    "papermill": {
     "duration": 0.049248,
     "end_time": "2023-02-07T11:27:17.980199",
     "exception": false,
     "start_time": "2023-02-07T11:27:17.930951",
     "status": "completed"
    },
    "tags": []
   },
   "outputs": [
    {
     "data": {
      "text/html": [
       "<div>\n",
       "<style scoped>\n",
       "    .dataframe tbody tr th:only-of-type {\n",
       "        vertical-align: middle;\n",
       "    }\n",
       "\n",
       "    .dataframe tbody tr th {\n",
       "        vertical-align: top;\n",
       "    }\n",
       "\n",
       "    .dataframe thead th {\n",
       "        text-align: right;\n",
       "    }\n",
       "</style>\n",
       "<table border=\"1\" class=\"dataframe\">\n",
       "  <thead>\n",
       "    <tr style=\"text-align: right;\">\n",
       "      <th></th>\n",
       "      <th>PassengerId</th>\n",
       "      <th>Survived</th>\n",
       "    </tr>\n",
       "  </thead>\n",
       "  <tbody>\n",
       "    <tr>\n",
       "      <th>0</th>\n",
       "      <td>892</td>\n",
       "      <td>0</td>\n",
       "    </tr>\n",
       "    <tr>\n",
       "      <th>1</th>\n",
       "      <td>893</td>\n",
       "      <td>0</td>\n",
       "    </tr>\n",
       "    <tr>\n",
       "      <th>2</th>\n",
       "      <td>894</td>\n",
       "      <td>0</td>\n",
       "    </tr>\n",
       "    <tr>\n",
       "      <th>3</th>\n",
       "      <td>895</td>\n",
       "      <td>0</td>\n",
       "    </tr>\n",
       "    <tr>\n",
       "      <th>4</th>\n",
       "      <td>896</td>\n",
       "      <td>0</td>\n",
       "    </tr>\n",
       "    <tr>\n",
       "      <th>...</th>\n",
       "      <td>...</td>\n",
       "      <td>...</td>\n",
       "    </tr>\n",
       "    <tr>\n",
       "      <th>413</th>\n",
       "      <td>1305</td>\n",
       "      <td>0</td>\n",
       "    </tr>\n",
       "    <tr>\n",
       "      <th>414</th>\n",
       "      <td>1306</td>\n",
       "      <td>1</td>\n",
       "    </tr>\n",
       "    <tr>\n",
       "      <th>415</th>\n",
       "      <td>1307</td>\n",
       "      <td>0</td>\n",
       "    </tr>\n",
       "    <tr>\n",
       "      <th>416</th>\n",
       "      <td>1308</td>\n",
       "      <td>0</td>\n",
       "    </tr>\n",
       "    <tr>\n",
       "      <th>417</th>\n",
       "      <td>1309</td>\n",
       "      <td>0</td>\n",
       "    </tr>\n",
       "  </tbody>\n",
       "</table>\n",
       "<p>418 rows × 2 columns</p>\n",
       "</div>"
      ],
      "text/plain": [
       "     PassengerId  Survived\n",
       "0            892         0\n",
       "1            893         0\n",
       "2            894         0\n",
       "3            895         0\n",
       "4            896         0\n",
       "..           ...       ...\n",
       "413         1305         0\n",
       "414         1306         1\n",
       "415         1307         0\n",
       "416         1308         0\n",
       "417         1309         0\n",
       "\n",
       "[418 rows x 2 columns]"
      ]
     },
     "execution_count": 50,
     "metadata": {},
     "output_type": "execute_result"
    }
   ],
   "source": [
    "test_df = pd.read_csv('/kaggle/input/titanic/test.csv')\n",
    "output = pd.DataFrame()\n",
    "output['PassengerId'] = test_df['PassengerId']\n",
    "output['Survived'] = test_pred\n",
    "output.to_csv('/kaggle/working/submission.csv', index=False)\n",
    "output"
   ]
  },
  {
   "cell_type": "code",
   "execution_count": null,
   "id": "56654bdb",
   "metadata": {
    "papermill": {
     "duration": 0.021372,
     "end_time": "2023-02-07T11:27:18.023587",
     "exception": false,
     "start_time": "2023-02-07T11:27:18.002215",
     "status": "completed"
    },
    "tags": []
   },
   "outputs": [],
   "source": []
  }
 ],
 "metadata": {
  "kernelspec": {
   "display_name": "Python 3",
   "language": "python",
   "name": "python3"
  },
  "language_info": {
   "codemirror_mode": {
    "name": "ipython",
    "version": 3
   },
   "file_extension": ".py",
   "mimetype": "text/x-python",
   "name": "python",
   "nbconvert_exporter": "python",
   "pygments_lexer": "ipython3",
   "version": "3.7.12"
  },
  "papermill": {
   "default_parameters": {},
   "duration": 16.360637,
   "end_time": "2023-02-07T11:27:18.869555",
   "environment_variables": {},
   "exception": null,
   "input_path": "__notebook__.ipynb",
   "output_path": "__notebook__.ipynb",
   "parameters": {},
   "start_time": "2023-02-07T11:27:02.508918",
   "version": "2.3.4"
  }
 },
 "nbformat": 4,
 "nbformat_minor": 5
}
